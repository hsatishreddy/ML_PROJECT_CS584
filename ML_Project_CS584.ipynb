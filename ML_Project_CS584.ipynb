{
 "cells": [
  {
   "cell_type": "markdown",
   "id": "4273b36a",
   "metadata": {},
   "source": [
    "# Cyber Security Threat Detection Using Machine Learning Frameworks"
   ]
  },
  {
   "cell_type": "code",
   "execution_count": 1,
   "id": "c181400e",
   "metadata": {},
   "outputs": [],
   "source": [
    "import os\n",
    "os.chdir('/Users/ganeshprasad/Downloads/ML_PROJECT_CS584')\n",
    "filename = 'output_final.csv'"
   ]
  },
  {
   "cell_type": "code",
   "execution_count": 2,
   "id": "a4b89ead",
   "metadata": {},
   "outputs": [],
   "source": [
    "#Importing packages\n",
    "import pandas as pd\n",
    "import numpy as np\n",
    "import seaborn as sns\n",
    "\n",
    "from matplotlib import pyplot\n",
    "\n",
    "from sklearn.preprocessing import MinMaxScaler, StandardScaler\n",
    "from sklearn.pipeline import FeatureUnion, Pipeline\n",
    "from sklearn.model_selection import train_test_split, KFold, cross_val_score, RandomizedSearchCV, GridSearchCV\n",
    "from sklearn.feature_selection import VarianceThreshold, SelectKBest, chi2, mutual_info_classif\n",
    "from sklearn.ensemble import ExtraTreesClassifier\n",
    "\n",
    "from sklearn.linear_model import LogisticRegression\n",
    "from sklearn.discriminant_analysis import LinearDiscriminantAnalysis, QuadraticDiscriminantAnalysis\n",
    "from sklearn.neighbors import KNeighborsClassifier\n",
    "from sklearn.tree import DecisionTreeClassifier\n",
    "from sklearn.naive_bayes import GaussianNB\n",
    "from sklearn.svm import SVC, LinearSVC\n",
    "\n",
    "from sklearn.metrics import roc_curve, roc_auc_score, confusion_matrix, classification_report\n",
    "\n",
    "import tensorflow as tf\n",
    "from tensorflow import keras\n",
    "from keras.models import Model\n",
    "from keras.layers import Lambda, Input, Dense\n",
    "from keras.losses import binary_crossentropy\n",
    "\n",
    "from pandas.plotting import scatter_matrix\n",
    "\n",
    "from tensorflow.python.framework.ops import disable_eager_execution\n",
    "# disable_eager_execution()  # Remove this line to enable eager execution\n",
    "\n",
    "import warnings\n",
    "warnings.filterwarnings('ignore')\n",
    "\n",
    "from __future__ import print_function"
   ]
  },
  {
   "cell_type": "code",
   "execution_count": 3,
   "id": "e7270e8c",
   "metadata": {},
   "outputs": [
    {
     "name": "stdout",
     "output_type": "stream",
     "text": [
      "<class 'pandas.core.frame.DataFrame'>\n",
      "RangeIndex: 999 entries, 0 to 998\n",
      "Columns: 152 entries, 0 to 0.113\n",
      "dtypes: float64(4), int64(148)\n",
      "memory usage: 1.2 MB\n"
     ]
    }
   ],
   "source": [
    "# Create DataFrame\n",
    "train = pd.read_csv(filename)\n",
    "train_data = train.copy()\n",
    "train_data.info()"
   ]
  },
  {
   "cell_type": "markdown",
   "id": "6ce18b78",
   "metadata": {},
   "source": [
    "# Data Preparation"
   ]
  },
  {
   "cell_type": "code",
   "execution_count": 4,
   "id": "6e4b7410",
   "metadata": {},
   "outputs": [],
   "source": [
    "array = train_data.values\n",
    "X_train = array[:, 0:151]\n",
    "y_train = array[:, 151]"
   ]
  },
  {
   "cell_type": "code",
   "execution_count": 5,
   "id": "d9507be9",
   "metadata": {},
   "outputs": [
    {
     "name": "stdout",
     "output_type": "stream",
     "text": [
      "(799, 151)\n"
     ]
    }
   ],
   "source": [
    "# Split into a train and validation set\n",
    "X_train, X_valid, y_train, y_valid = train_test_split(X_train, y_train, test_size=0.2, random_state=3)\n",
    "print(X_train.shape)"
   ]
  },
  {
   "cell_type": "code",
   "execution_count": 6,
   "id": "792ac5c4",
   "metadata": {},
   "outputs": [
    {
     "name": "stdout",
     "output_type": "stream",
     "text": [
      "9.0\n",
      "2.0\n"
     ]
    }
   ],
   "source": [
    "#Checking train and validation sets still splits across the target evenly\n",
    "print(y_train.sum())\n",
    "print(y_valid.sum())"
   ]
  },
  {
   "cell_type": "markdown",
   "id": "ce77114b",
   "metadata": {},
   "source": [
    "### Normalise Data"
   ]
  },
  {
   "cell_type": "code",
   "execution_count": 7,
   "id": "4cf1bd5d",
   "metadata": {},
   "outputs": [
    {
     "name": "stdout",
     "output_type": "stream",
     "text": [
      "(799, 151)\n"
     ]
    }
   ],
   "source": [
    "norm_scaler = MinMaxScaler(feature_range=(0, 1), clip=True).fit(X_train)\n",
    "n_X_train = norm_scaler.transform(X_train)\n",
    "print(n_X_train.shape)"
   ]
  },
  {
   "cell_type": "code",
   "execution_count": 8,
   "id": "30f4c899",
   "metadata": {},
   "outputs": [
    {
     "name": "stdout",
     "output_type": "stream",
     "text": [
      "(200, 151)\n"
     ]
    }
   ],
   "source": [
    "n_X_valid = norm_scaler.transform(X_valid)\n",
    "print(n_X_valid.shape)"
   ]
  },
  {
   "cell_type": "markdown",
   "id": "8b99b36d",
   "metadata": {},
   "source": [
    "# Variational Autoencoder"
   ]
  },
  {
   "cell_type": "code",
   "execution_count": 9,
   "id": "f9dd5ddb",
   "metadata": {},
   "outputs": [],
   "source": [
    "#Variational Autoencoder is used to generate 20 additional features to add to the data set\n",
    "class Sampling(keras.layers.Layer):\n",
    "    def call(self, input_data):\n",
    "        mean, log_var = input_data\n",
    "        return keras.backend.random_normal(tf.shape(log_var)) * keras.backend.exp(log_var / 2) + mean\n",
    "\n",
    "input_size = 151\n",
    "code_size = 20\n",
    "\n",
    "input_data = Input(shape=(input_size,))\n",
    "hidden_1 = Dense(75, activation='relu')(input_data)\n",
    "hidden_2 = Dense(35, activation='relu')(hidden_1)\n",
    "\n",
    "code_mean = Dense(code_size)(hidden_2)\n",
    "code_log_var = Dense(code_size)(hidden_2)\n",
    "code = Sampling()([code_mean, code_log_var])\n",
    "\n",
    "var_encoder = Model(input_data, outputs=code)\n",
    "\n",
    "decoder_inputs = Input(shape=[code_size])\n",
    "hidden_3 = Dense(35, activation='relu')(decoder_inputs)\n",
    "hidden_4 = Dense(75, activation='relu')(hidden_3)\n",
    "output_data = Dense(input_size, activation='sigmoid')(hidden_4)\n",
    "\n",
    "var_decoder = Model(inputs=decoder_inputs, outputs=output_data)\n",
    "\n",
    "code_input = Input(shape=(code_size,))\n",
    "reconst = var_decoder(code_input)\n",
    "var_ae = Model(inputs=code_input, outputs=reconst)"
   ]
  },
  {
   "cell_type": "code",
   "execution_count": 10,
   "id": "56840bd0",
   "metadata": {},
   "outputs": [
    {
     "name": "stdout",
     "output_type": "stream",
     "text": [
      "\u001b[1m25/25\u001b[0m \u001b[32m━━━━━━━━━━━━━━━━━━━━\u001b[0m\u001b[37m\u001b[0m \u001b[1m0s\u001b[0m 2ms/step \n",
      "\u001b[1m7/7\u001b[0m \u001b[32m━━━━━━━━━━━━━━━━━━━━\u001b[0m\u001b[37m\u001b[0m \u001b[1m0s\u001b[0m 2ms/step \n",
      "Epoch 1/10\n",
      "\u001b[1m25/25\u001b[0m \u001b[32m━━━━━━━━━━━━━━━━━━━━\u001b[0m\u001b[37m\u001b[0m \u001b[1m1s\u001b[0m 25ms/step - loss: 0.7703 - val_loss: 0.5770\n",
      "Epoch 2/10\n",
      "\u001b[1m25/25\u001b[0m \u001b[32m━━━━━━━━━━━━━━━━━━━━\u001b[0m\u001b[37m\u001b[0m \u001b[1m1s\u001b[0m 24ms/step - loss: 0.4971 - val_loss: 0.3168\n",
      "Epoch 3/10\n",
      "\u001b[1m25/25\u001b[0m \u001b[32m━━━━━━━━━━━━━━━━━━━━\u001b[0m\u001b[37m\u001b[0m \u001b[1m1s\u001b[0m 23ms/step - loss: 0.2928 - val_loss: 0.2603\n",
      "Epoch 4/10\n",
      "\u001b[1m25/25\u001b[0m \u001b[32m━━━━━━━━━━━━━━━━━━━━\u001b[0m\u001b[37m\u001b[0m \u001b[1m1s\u001b[0m 23ms/step - loss: 0.2503 - val_loss: 0.2499\n",
      "Epoch 5/10\n",
      "\u001b[1m25/25\u001b[0m \u001b[32m━━━━━━━━━━━━━━━━━━━━\u001b[0m\u001b[37m\u001b[0m \u001b[1m1s\u001b[0m 24ms/step - loss: 0.2465 - val_loss: 0.2435\n",
      "Epoch 6/10\n",
      "\u001b[1m25/25\u001b[0m \u001b[32m━━━━━━━━━━━━━━━━━━━━\u001b[0m\u001b[37m\u001b[0m \u001b[1m1s\u001b[0m 24ms/step - loss: 0.2439 - val_loss: 0.2450\n",
      "Epoch 7/10\n",
      "\u001b[1m25/25\u001b[0m \u001b[32m━━━━━━━━━━━━━━━━━━━━\u001b[0m\u001b[37m\u001b[0m \u001b[1m1s\u001b[0m 23ms/step - loss: 0.2357 - val_loss: 0.2407\n",
      "Epoch 8/10\n",
      "\u001b[1m25/25\u001b[0m \u001b[32m━━━━━━━━━━━━━━━━━━━━\u001b[0m\u001b[37m\u001b[0m \u001b[1m1s\u001b[0m 23ms/step - loss: 0.2418 - val_loss: 0.2440\n",
      "Epoch 9/10\n",
      "\u001b[1m25/25\u001b[0m \u001b[32m━━━━━━━━━━━━━━━━━━━━\u001b[0m\u001b[37m\u001b[0m \u001b[1m1s\u001b[0m 23ms/step - loss: 0.2390 - val_loss: 0.2372\n",
      "Epoch 10/10\n",
      "\u001b[1m25/25\u001b[0m \u001b[32m━━━━━━━━━━━━━━━━━━━━\u001b[0m\u001b[37m\u001b[0m \u001b[1m1s\u001b[0m 24ms/step - loss: 0.2388 - val_loss: 0.2420\n"
     ]
    }
   ],
   "source": [
    "# Custom loss function for Variational Autoencoder\n",
    "def losses_func(input_data, reconst):\n",
    "    code_mean = var_encoder(input_data)\n",
    "    code_log_var = var_encoder(input_data)\n",
    "    latent_loss = -0.5 * tf.reduce_sum(1 + code_log_var - tf.exp(code_log_var) - tf.square(code_mean), axis=-1)\n",
    "    reconstruction_loss = tf.keras.losses.binary_crossentropy(input_data, reconst)\n",
    "    return (tf.reduce_mean(latent_loss) / 151.) + reconstruction_loss\n",
    "\n",
    "var_ae.compile(optimizer='adam', loss=losses_func)\n",
    "\n",
    "# Enabling eager execution\n",
    "tf.config.run_functions_eagerly(True)\n",
    "\n",
    "# Encode input data using the encoder model\n",
    "encoded_train_data = var_encoder.predict(n_X_train)\n",
    "encoded_valid_data = var_encoder.predict(n_X_valid)\n",
    "\n",
    "# Train the Variational Autoencoder with the encoded features\n",
    "history = var_ae.fit(x=encoded_train_data, y=n_X_train, epochs=10, validation_data=(encoded_valid_data, n_X_valid))"
   ]
  },
  {
   "cell_type": "code",
   "execution_count": 11,
   "id": "0438cc61",
   "metadata": {},
   "outputs": [
    {
     "data": {
      "image/png": "[encoded data removed]",
      "text/plain": [
       "<Figure size 640x480 with 1 Axes>"
      ]
     },
     "metadata": {},
     "output_type": "display_data"
    }
   ],
   "source": [
    "pyplot.plot(history.history['loss'],label = 'train')\n",
    "pyplot.plot(history.history['val_loss'], label = 'valid')\n",
    "pyplot.legend()\n",
    "pyplot.show()  "
   ]
  },
  {
   "cell_type": "code",
   "execution_count": 12,
   "id": "19748b4c",
   "metadata": {},
   "outputs": [
    {
     "name": "stdout",
     "output_type": "stream",
     "text": [
      "\u001b[1m25/25\u001b[0m \u001b[32m━━━━━━━━━━━━━━━━━━━━\u001b[0m\u001b[37m\u001b[0m \u001b[1m0s\u001b[0m 3ms/step\n",
      "(799, 20)\n"
     ]
    }
   ],
   "source": [
    "#The trained variational encoder contains the reduced features from the code layer\n",
    "encoded = var_encoder\n",
    "gen_feat = encoded.predict(n_X_train)\n",
    "print(gen_feat.shape)"
   ]
  },
  {
   "cell_type": "code",
   "execution_count": 13,
   "id": "9a1a404d",
   "metadata": {},
   "outputs": [
    {
     "data": {
      "text/html": [
       "<div>\n",
       "<style scoped>\n",
       "    .dataframe tbody tr th:only-of-type {\n",
       "        vertical-align: middle;\n",
       "    }\n",
       "\n",
       "    .dataframe tbody tr th {\n",
       "        vertical-align: top;\n",
       "    }\n",
       "\n",
       "    .dataframe thead th {\n",
       "        text-align: right;\n",
       "    }\n",
       "</style>\n",
       "<table border=\"1\" class=\"dataframe\">\n",
       "  <thead>\n",
       "    <tr style=\"text-align: right;\">\n",
       "      <th></th>\n",
       "      <th>0</th>\n",
       "      <th>1</th>\n",
       "      <th>2</th>\n",
       "      <th>3</th>\n",
       "      <th>4</th>\n",
       "      <th>5</th>\n",
       "      <th>6</th>\n",
       "      <th>7</th>\n",
       "      <th>8</th>\n",
       "      <th>9</th>\n",
       "      <th>10</th>\n",
       "      <th>11</th>\n",
       "      <th>12</th>\n",
       "      <th>13</th>\n",
       "      <th>14</th>\n",
       "      <th>15</th>\n",
       "      <th>16</th>\n",
       "      <th>17</th>\n",
       "      <th>18</th>\n",
       "      <th>19</th>\n",
       "    </tr>\n",
       "  </thead>\n",
       "  <tbody>\n",
       "    <tr>\n",
       "      <th>count</th>\n",
       "      <td>799.000000</td>\n",
       "      <td>799.000000</td>\n",
       "      <td>799.000000</td>\n",
       "      <td>799.000000</td>\n",
       "      <td>799.000000</td>\n",
       "      <td>799.000000</td>\n",
       "      <td>799.000000</td>\n",
       "      <td>799.000000</td>\n",
       "      <td>799.000000</td>\n",
       "      <td>799.000000</td>\n",
       "      <td>799.000000</td>\n",
       "      <td>799.000000</td>\n",
       "      <td>799.000000</td>\n",
       "      <td>799.000000</td>\n",
       "      <td>799.000000</td>\n",
       "      <td>799.000000</td>\n",
       "      <td>799.000000</td>\n",
       "      <td>799.000000</td>\n",
       "      <td>799.000000</td>\n",
       "      <td>799.000000</td>\n",
       "    </tr>\n",
       "    <tr>\n",
       "      <th>mean</th>\n",
       "      <td>0.196249</td>\n",
       "      <td>0.176597</td>\n",
       "      <td>-0.066571</td>\n",
       "      <td>-0.029401</td>\n",
       "      <td>-0.056493</td>\n",
       "      <td>0.057881</td>\n",
       "      <td>0.333042</td>\n",
       "      <td>-0.275570</td>\n",
       "      <td>0.237192</td>\n",
       "      <td>0.058805</td>\n",
       "      <td>-0.073271</td>\n",
       "      <td>0.252008</td>\n",
       "      <td>-0.094418</td>\n",
       "      <td>0.156024</td>\n",
       "      <td>0.083200</td>\n",
       "      <td>0.091414</td>\n",
       "      <td>-0.251215</td>\n",
       "      <td>0.140683</td>\n",
       "      <td>-0.101385</td>\n",
       "      <td>-0.008986</td>\n",
       "    </tr>\n",
       "    <tr>\n",
       "      <th>std</th>\n",
       "      <td>1.127500</td>\n",
       "      <td>0.910040</td>\n",
       "      <td>1.094223</td>\n",
       "      <td>1.008315</td>\n",
       "      <td>1.070804</td>\n",
       "      <td>0.998270</td>\n",
       "      <td>1.135371</td>\n",
       "      <td>1.088233</td>\n",
       "      <td>1.035587</td>\n",
       "      <td>1.086822</td>\n",
       "      <td>1.040095</td>\n",
       "      <td>1.080988</td>\n",
       "      <td>0.885895</td>\n",
       "      <td>0.993757</td>\n",
       "      <td>1.001287</td>\n",
       "      <td>1.004833</td>\n",
       "      <td>1.033001</td>\n",
       "      <td>0.971582</td>\n",
       "      <td>0.978158</td>\n",
       "      <td>1.091663</td>\n",
       "    </tr>\n",
       "    <tr>\n",
       "      <th>min</th>\n",
       "      <td>-3.260778</td>\n",
       "      <td>-2.782940</td>\n",
       "      <td>-3.870107</td>\n",
       "      <td>-3.148880</td>\n",
       "      <td>-3.836467</td>\n",
       "      <td>-2.765162</td>\n",
       "      <td>-3.562202</td>\n",
       "      <td>-3.820635</td>\n",
       "      <td>-3.214219</td>\n",
       "      <td>-3.416041</td>\n",
       "      <td>-3.574818</td>\n",
       "      <td>-3.620314</td>\n",
       "      <td>-3.211592</td>\n",
       "      <td>-2.951766</td>\n",
       "      <td>-3.276100</td>\n",
       "      <td>-2.883308</td>\n",
       "      <td>-3.397503</td>\n",
       "      <td>-3.150150</td>\n",
       "      <td>-3.189270</td>\n",
       "      <td>-3.260858</td>\n",
       "    </tr>\n",
       "    <tr>\n",
       "      <th>25%</th>\n",
       "      <td>-0.633498</td>\n",
       "      <td>-0.442013</td>\n",
       "      <td>-0.778989</td>\n",
       "      <td>-0.659108</td>\n",
       "      <td>-0.786810</td>\n",
       "      <td>-0.638533</td>\n",
       "      <td>-0.473269</td>\n",
       "      <td>-1.005812</td>\n",
       "      <td>-0.490152</td>\n",
       "      <td>-0.713915</td>\n",
       "      <td>-0.750953</td>\n",
       "      <td>-0.482602</td>\n",
       "      <td>-0.712533</td>\n",
       "      <td>-0.510530</td>\n",
       "      <td>-0.590630</td>\n",
       "      <td>-0.562304</td>\n",
       "      <td>-0.920234</td>\n",
       "      <td>-0.493064</td>\n",
       "      <td>-0.762831</td>\n",
       "      <td>-0.755161</td>\n",
       "    </tr>\n",
       "    <tr>\n",
       "      <th>50%</th>\n",
       "      <td>0.200975</td>\n",
       "      <td>0.204611</td>\n",
       "      <td>-0.039043</td>\n",
       "      <td>-0.006457</td>\n",
       "      <td>-0.045268</td>\n",
       "      <td>0.068204</td>\n",
       "      <td>0.370899</td>\n",
       "      <td>-0.307582</td>\n",
       "      <td>0.212057</td>\n",
       "      <td>0.121256</td>\n",
       "      <td>-0.075470</td>\n",
       "      <td>0.189184</td>\n",
       "      <td>-0.100081</td>\n",
       "      <td>0.167657</td>\n",
       "      <td>0.059217</td>\n",
       "      <td>0.120977</td>\n",
       "      <td>-0.224990</td>\n",
       "      <td>0.181239</td>\n",
       "      <td>-0.124709</td>\n",
       "      <td>0.009867</td>\n",
       "    </tr>\n",
       "    <tr>\n",
       "      <th>75%</th>\n",
       "      <td>0.926064</td>\n",
       "      <td>0.796880</td>\n",
       "      <td>0.670224</td>\n",
       "      <td>0.670717</td>\n",
       "      <td>0.708873</td>\n",
       "      <td>0.731391</td>\n",
       "      <td>1.163445</td>\n",
       "      <td>0.415757</td>\n",
       "      <td>1.026580</td>\n",
       "      <td>0.773789</td>\n",
       "      <td>0.632584</td>\n",
       "      <td>0.976860</td>\n",
       "      <td>0.523084</td>\n",
       "      <td>0.825009</td>\n",
       "      <td>0.714810</td>\n",
       "      <td>0.792569</td>\n",
       "      <td>0.440397</td>\n",
       "      <td>0.802850</td>\n",
       "      <td>0.552881</td>\n",
       "      <td>0.706385</td>\n",
       "    </tr>\n",
       "    <tr>\n",
       "      <th>max</th>\n",
       "      <td>4.617165</td>\n",
       "      <td>3.528754</td>\n",
       "      <td>4.150082</td>\n",
       "      <td>3.358701</td>\n",
       "      <td>2.693748</td>\n",
       "      <td>3.203411</td>\n",
       "      <td>3.545286</td>\n",
       "      <td>4.031078</td>\n",
       "      <td>3.126876</td>\n",
       "      <td>3.591542</td>\n",
       "      <td>3.026739</td>\n",
       "      <td>3.269275</td>\n",
       "      <td>3.510114</td>\n",
       "      <td>3.168393</td>\n",
       "      <td>3.435226</td>\n",
       "      <td>3.525137</td>\n",
       "      <td>3.153147</td>\n",
       "      <td>3.034080</td>\n",
       "      <td>3.159332</td>\n",
       "      <td>3.156031</td>\n",
       "    </tr>\n",
       "  </tbody>\n",
       "</table>\n",
       "</div>"
      ],
      "text/plain": [
       "               0           1           2           3           4           5   \\\n",
       "count  799.000000  799.000000  799.000000  799.000000  799.000000  799.000000   \n",
       "mean     0.196249    0.176597   -0.066571   -0.029401   -0.056493    0.057881   \n",
       "std      1.127500    0.910040    1.094223    1.008315    1.070804    0.998270   \n",
       "min     -3.260778   -2.782940   -3.870107   -3.148880   -3.836467   -2.765162   \n",
       "25%     -0.633498   -0.442013   -0.778989   -0.659108   -0.786810   -0.638533   \n",
       "50%      0.200975    0.204611   -0.039043   -0.006457   -0.045268    0.068204   \n",
       "75%      0.926064    0.796880    0.670224    0.670717    0.708873    0.731391   \n",
       "max      4.617165    3.528754    4.150082    3.358701    2.693748    3.203411   \n",
       "\n",
       "               6           7           8           9           10          11  \\\n",
       "count  799.000000  799.000000  799.000000  799.000000  799.000000  799.000000   \n",
       "mean     0.333042   -0.275570    0.237192    0.058805   -0.073271    0.252008   \n",
       "std      1.135371    1.088233    1.035587    1.086822    1.040095    1.080988   \n",
       "min     -3.562202   -3.820635   -3.214219   -3.416041   -3.574818   -3.620314   \n",
       "25%     -0.473269   -1.005812   -0.490152   -0.713915   -0.750953   -0.482602   \n",
       "50%      0.370899   -0.307582    0.212057    0.121256   -0.075470    0.189184   \n",
       "75%      1.163445    0.415757    1.026580    0.773789    0.632584    0.976860   \n",
       "max      3.545286    4.031078    3.126876    3.591542    3.026739    3.269275   \n",
       "\n",
       "               12          13          14          15          16          17  \\\n",
       "count  799.000000  799.000000  799.000000  799.000000  799.000000  799.000000   \n",
       "mean    -0.094418    0.156024    0.083200    0.091414   -0.251215    0.140683   \n",
       "std      0.885895    0.993757    1.001287    1.004833    1.033001    0.971582   \n",
       "min     -3.211592   -2.951766   -3.276100   -2.883308   -3.397503   -3.150150   \n",
       "25%     -0.712533   -0.510530   -0.590630   -0.562304   -0.920234   -0.493064   \n",
       "50%     -0.100081    0.167657    0.059217    0.120977   -0.224990    0.181239   \n",
       "75%      0.523084    0.825009    0.714810    0.792569    0.440397    0.802850   \n",
       "max      3.510114    3.168393    3.435226    3.525137    3.153147    3.034080   \n",
       "\n",
       "               18          19  \n",
       "count  799.000000  799.000000  \n",
       "mean    -0.101385   -0.008986  \n",
       "std      0.978158    1.091663  \n",
       "min     -3.189270   -3.260858  \n",
       "25%     -0.762831   -0.755161  \n",
       "50%     -0.124709    0.009867  \n",
       "75%      0.552881    0.706385  \n",
       "max      3.159332    3.156031  "
      ]
     },
     "execution_count": 13,
     "metadata": {},
     "output_type": "execute_result"
    }
   ],
   "source": [
    "#Statistics of the generated output features\n",
    "gen_featdf = pd.DataFrame(gen_feat)\n",
    "gen_featdf.describe()"
   ]
  },
  {
   "cell_type": "markdown",
   "id": "63be3307",
   "metadata": {},
   "source": [
    "The Variational Encoder code layer, the generated features have a mean of 0 and a standard deviation of 1"
   ]
  },
  {
   "cell_type": "code",
   "execution_count": 14,
   "id": "31b421cc",
   "metadata": {},
   "outputs": [],
   "source": [
    "#Normalising the generated features and creating a dataframe with new column labels\n",
    "norm_scaler20 = MinMaxScaler(feature_range = (0,1), clip = True).fit(gen_feat)\n",
    "n_gen_feat = norm_scaler20.transform(gen_feat)\n",
    "n_gen_feat = pd.DataFrame(n_gen_feat)\n",
    "new_col_headers = map(str,[160,161,162,163,164,165,166,167,168,169, 170,171,172,173,174,175,176,177,178,179])\n",
    "n_gen_feat.columns= new_col_headers"
   ]
  },
  {
   "cell_type": "code",
   "execution_count": 15,
   "id": "1ed6b238",
   "metadata": {},
   "outputs": [
    {
     "name": "stdout",
     "output_type": "stream",
     "text": [
      "(799, 171)\n"
     ]
    }
   ],
   "source": [
    "#Adding generated features dataframe to original features dataframe\n",
    "num_data = open('column_names.csv') #Column names\n",
    "num_lst = []\n",
    "for label in num_data:\n",
    "    label = label.rstrip()\n",
    "    num_lst.append(label)\n",
    "\n",
    "n_orig_feat = pd.DataFrame(n_X_train, columns = num_lst)\n",
    "n_all_feat = pd.concat([n_orig_feat,n_gen_feat],axis = 1)\n",
    "print(n_all_feat.shape)"
   ]
  },
  {
   "cell_type": "markdown",
   "id": "513bc8b0-0bdd-4da0-b594-dd5d1b347fcd",
   "metadata": {},
   "source": [
    "# Feature Selection"
   ]
  },
  {
   "cell_type": "markdown",
   "id": "fdcd442b-592e-4b2c-9a6d-3465a150eb6b",
   "metadata": {},
   "source": [
    "### Variance Threshold Filter"
   ]
  },
  {
   "cell_type": "code",
   "execution_count": 16,
   "id": "ecadb01f-e2d1-4064-92bb-57511d8a926e",
   "metadata": {},
   "outputs": [
    {
     "name": "stdout",
     "output_type": "stream",
     "text": [
      "Index(['frame.time_delta', 'frame.time_delta_displayed', 'frame.len',\n",
      "       'frame.cap_len', 'frame.marked', 'frame.ignored',\n",
      "       'radiotap.flags.preamble', 'radiotap.channel.type.turbo',\n",
      "       'radiotap.channel.type.2ghz', 'radiotap.channel.type.5ghz',\n",
      "       'radiotap.rxflags.badplcp', 'wlan.fc.ds', 'wlan.fc.frag',\n",
      "       'wlan.fc.moredata', 'wlan.fc.protected', 'wlan.fc.order',\n",
      "       'wlan.duration', 'wlan.ta', 'wlan.ba.control.multitid',\n",
      "       'wlan_mgt.fixed.capabilities.privacy',\n",
      "       'wlan_mgt.fixed.capabilities.agility',\n",
      "       'wlan_mgt.fixed.capabilities.spec_man',\n",
      "       'wlan_mgt.fixed.capabilities.dsss_ofdm', 'wlan_mgt.fixed.reason_code',\n",
      "       'wlan_mgt.ds.current_channel', 'wlan_mgt.tim.dtim_count',\n",
      "       'wlan_mgt.tim.dtim_period', 'wlan_mgt.tim.bmapctl.multicast',\n",
      "       'wlan_mgt.tim.bmapctl.offset', 'wlan_mgt.rsn.gcs.type',\n",
      "       'wlan_mgt.rsn.pcs.count', 'wlan_mgt.rsn.akms.count',\n",
      "       'wlan_mgt.rsn.akms.type', 'wlan_mgt.rsn.capabilities.preauth',\n",
      "       'wlan.wep.icv', 'wlan.qos.eosp', 'wlan.qos.ack', '160', '161', '162',\n",
      "       '163', '164', '165', '166', '167', '168', '169', '170', '171', '172',\n",
      "       '173', '174', '175', '176', '177', '178', '179'],\n",
      "      dtype='object')\n",
      "57\n"
     ]
    }
   ],
   "source": [
    "feat_sel = VarianceThreshold()\n",
    "feat_sel.fit_transform(n_all_feat)\n",
    "red_feat = pd.DataFrame(feat_sel.transform(n_all_feat))\n",
    "col_lst = n_all_feat.columns[feat_sel.get_support()]\n",
    "print(col_lst)\n",
    "print(len(col_lst))"
   ]
  },
  {
   "cell_type": "code",
   "execution_count": 17,
   "id": "be7a9a7b-d5de-4865-8afa-713a817f4ee8",
   "metadata": {},
   "outputs": [
    {
     "data": {
      "text/plain": [
       "(799, 57)"
      ]
     },
     "execution_count": 17,
     "metadata": {},
     "output_type": "execute_result"
    }
   ],
   "source": [
    "red_feat.columns = col_lst\n",
    "red_feat.shape"
   ]
  },
  {
   "cell_type": "markdown",
   "id": "1c39c8cc-5b81-4d7c-85ee-a95a6f78a155",
   "metadata": {},
   "source": [
    "### Kbest with Chi2 Filter"
   ]
  },
  {
   "cell_type": "code",
   "execution_count": 18,
   "id": "bae2197a-c890-40bd-8553-0992cd706cd5",
   "metadata": {},
   "outputs": [
    {
     "name": "stdout",
     "output_type": "stream",
     "text": [
      "Index(['frame.time_delta_displayed', 'frame.len', 'frame.marked',\n",
      "       'frame.ignored', 'radiotap.channel.type.turbo',\n",
      "       'radiotap.channel.type.2ghz', 'radiotap.channel.type.5ghz',\n",
      "       'radiotap.rxflags.badplcp', 'wlan.fc.ds', 'wlan.fc.frag',\n",
      "       'wlan.fc.moredata', 'wlan.fc.protected', 'wlan.duration',\n",
      "       'wlan.ba.control.multitid', 'wlan_mgt.fixed.capabilities.privacy',\n",
      "       'wlan_mgt.fixed.capabilities.agility',\n",
      "       'wlan_mgt.fixed.capabilities.spec_man',\n",
      "       'wlan_mgt.fixed.capabilities.dsss_ofdm', 'wlan_mgt.fixed.reason_code',\n",
      "       'wlan_mgt.ds.current_channel', 'wlan_mgt.tim.dtim_count',\n",
      "       'wlan_mgt.tim.dtim_period', 'wlan_mgt.tim.bmapctl.multicast',\n",
      "       'wlan_mgt.rsn.gcs.type', 'wlan_mgt.rsn.pcs.count',\n",
      "       'wlan_mgt.rsn.akms.count', 'wlan_mgt.rsn.akms.type',\n",
      "       'wlan_mgt.rsn.capabilities.preauth', 'wlan.qos.eosp', 'wlan.qos.ack'],\n",
      "      dtype='object')\n"
     ]
    }
   ],
   "source": [
    "kbest = SelectKBest(score_func = chi2, k =30)\n",
    "kbest_out = kbest.fit_transform(red_feat, y_train)\n",
    "kbest_out = red_feat.columns[kbest.get_support()]\n",
    "print(kbest_out)"
   ]
  },
  {
   "cell_type": "code",
   "execution_count": 19,
   "id": "ef025ac8-b5d3-4169-83d0-d3efff01a143",
   "metadata": {},
   "outputs": [
    {
     "data": {
      "text/plain": [
       "(799, 30)"
      ]
     },
     "execution_count": 19,
     "metadata": {},
     "output_type": "execute_result"
    }
   ],
   "source": [
    "red_feat2 = pd.DataFrame(kbest.transform(red_feat))\n",
    "red_feat2.columns = kbest_out\n",
    "red_feat2.shape"
   ]
  },
  {
   "cell_type": "markdown",
   "id": "1ee72a1b-1b7d-4367-84e9-2af2e51d59c8",
   "metadata": {},
   "source": [
    "### Kbest with MI Filter"
   ]
  },
  {
   "cell_type": "code",
   "execution_count": 20,
   "id": "e2425d4e-e1fd-4948-81d8-c8f2f700995e",
   "metadata": {},
   "outputs": [
    {
     "name": "stdout",
     "output_type": "stream",
     "text": [
      "Index(['frame.marked', 'frame.ignored', 'radiotap.channel.type.turbo',\n",
      "       'wlan.fc.ds', 'wlan.ba.control.multitid',\n",
      "       'wlan_mgt.fixed.capabilities.privacy',\n",
      "       'wlan_mgt.fixed.capabilities.agility',\n",
      "       'wlan_mgt.fixed.capabilities.dsss_ofdm', 'wlan_mgt.fixed.reason_code',\n",
      "       'wlan_mgt.ds.current_channel', 'wlan_mgt.tim.dtim_count',\n",
      "       'wlan_mgt.tim.bmapctl.multicast', 'wlan_mgt.rsn.gcs.type',\n",
      "       'wlan.qos.eosp', 'wlan.qos.ack'],\n",
      "      dtype='object')\n"
     ]
    }
   ],
   "source": [
    "kbest_mi = SelectKBest(score_func = mutual_info_classif, k = 15)\n",
    "kbest_mi_out = kbest_mi.fit_transform(red_feat2 , y_train)\n",
    "kbest_mi_out = red_feat2.columns[kbest_mi.get_support()]\n",
    "print(kbest_mi_out)"
   ]
  },
  {
   "cell_type": "code",
   "execution_count": 21,
   "id": "31c650f4-18cf-4213-995b-71b6cf854150",
   "metadata": {},
   "outputs": [
    {
     "data": {
      "text/plain": [
       "(799, 15)"
      ]
     },
     "execution_count": 21,
     "metadata": {},
     "output_type": "execute_result"
    }
   ],
   "source": [
    "X_train_final = pd.DataFrame(kbest_mi.transform(red_feat2))\n",
    "X_train_final.columns = kbest_mi_out\n",
    "X_train_final.shape"
   ]
  },
  {
   "cell_type": "code",
   "execution_count": 22,
   "id": "66d337f5-2024-43e7-a9fb-a83502274629",
   "metadata": {},
   "outputs": [
    {
     "name": "stdout",
     "output_type": "stream",
     "text": [
      "(799, 9)\n"
     ]
    }
   ],
   "source": [
    "def pairwise_corr(df, threshold = 0.9):\n",
    "    \n",
    "    matrix = df.corr()\n",
    "    mask = np.triu(np.ones_like(matrix,dtype = bool))\n",
    "    reduced_matrix = matrix.mask(mask)\n",
    "    col_to_drop = [col for col in reduced_matrix.columns if any (reduced_matrix[col] > threshold)]\n",
    "    return col_to_drop\n",
    "\n",
    "corr_columns = pairwise_corr(X_train_final, 0.95)\n",
    "X_train_corr = X_train_final.drop(corr_columns, axis = 1)\n",
    "print(X_train_corr.shape)"
   ]
  },
  {
   "cell_type": "code",
   "execution_count": 23,
   "id": "15d5d0f5-838a-40e8-9216-815eaabc833c",
   "metadata": {},
   "outputs": [
    {
     "name": "stdout",
     "output_type": "stream",
     "text": [
      "['frame.marked', 'wlan_mgt.fixed.capabilities.privacy', 'wlan_mgt.fixed.capabilities.dsss_ofdm', 'wlan_mgt.fixed.reason_code', 'wlan_mgt.ds.current_channel', 'wlan.qos.eosp']\n"
     ]
    }
   ],
   "source": [
    "#print columns\n",
    "print(corr_columns)"
   ]
  },
  {
   "cell_type": "code",
   "execution_count": null,
   "id": "499cab37-3cf7-42a1-8929-1fa51a6c9a86",
   "metadata": {},
   "outputs": [],
   "source": []
  }
 ],
 "metadata": {
  "kernelspec": {
   "display_name": "Python 3 (ipykernel)",
   "language": "python",
   "name": "python3"
  },
  "language_info": {
   "codemirror_mode": {
    "name": "ipython",
    "version": 3
   },
   "file_extension": ".py",
   "mimetype": "text/x-python",
   "name": "python",
   "nbconvert_exporter": "python",
   "pygments_lexer": "ipython3",
   "version": "3.11.7"
  }
 },
 "nbformat": 4,
 "nbformat_minor": 5
}
