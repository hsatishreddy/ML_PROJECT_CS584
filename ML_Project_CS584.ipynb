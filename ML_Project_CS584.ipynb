{
 "cells": [
  {
   "cell_type": "markdown",
   "id": "4273b36a",
   "metadata": {},
   "source": [
    "# Cyber Security Threat Detection Using Machine Learning Frameworks"
   ]
  },
  {
   "cell_type": "code",
   "execution_count": 2,
   "id": "c181400e",
   "metadata": {},
   "outputs": [],
   "source": [
    "import os\n",
    "os.chdir('C:\\Ramya\\IIT_Academics\\Spring 2024\\Machine Learning\\Project')\n",
    "filename = 'output_final.csv'"
   ]
  },
  {
   "cell_type": "code",
   "execution_count": 3,
   "id": "a4b89ead",
   "metadata": {},
   "outputs": [],
   "source": [
    "#Importing packages\n",
    "import pandas as pd\n",
    "import numpy as np\n",
    "import seaborn as sns\n",
    "\n",
    "from matplotlib import pyplot\n",
    "\n",
    "from sklearn.preprocessing import MinMaxScaler, StandardScaler\n",
    "from sklearn.pipeline import FeatureUnion, Pipeline\n",
    "from sklearn.model_selection import train_test_split, KFold, cross_val_score, RandomizedSearchCV, GridSearchCV\n",
    "from sklearn.feature_selection import VarianceThreshold, SelectKBest, chi2, mutual_info_classif\n",
    "from sklearn.ensemble import ExtraTreesClassifier\n",
    "\n",
    "from sklearn.linear_model import LogisticRegression\n",
    "from sklearn.discriminant_analysis import LinearDiscriminantAnalysis, QuadraticDiscriminantAnalysis\n",
    "from sklearn.neighbors import KNeighborsClassifier\n",
    "from sklearn.tree import DecisionTreeClassifier\n",
    "from sklearn.naive_bayes import GaussianNB\n",
    "from sklearn.svm import SVC, LinearSVC\n",
    "\n",
    "from sklearn.metrics import roc_curve, roc_auc_score, confusion_matrix, classification_report\n",
    "\n",
    "import tensorflow as tf\n",
    "from tensorflow import keras\n",
    "from keras.models import Model\n",
    "from keras.layers import Lambda, Input, Dense\n",
    "from keras.losses import binary_crossentropy\n",
    "\n",
    "from pandas.plotting import scatter_matrix\n",
    "\n",
    "from tensorflow.python.framework.ops import disable_eager_execution\n",
    "# disable_eager_execution()  # Remove this line to enable eager execution\n",
    "\n",
    "import warnings\n",
    "warnings.filterwarnings('ignore')\n",
    "\n",
    "from __future__ import print_function"
   ]
  },
  {
   "cell_type": "code",
   "execution_count": 4,
   "id": "e7270e8c",
   "metadata": {},
   "outputs": [
    {
     "name": "stdout",
     "output_type": "stream",
     "text": [
      "<class 'pandas.core.frame.DataFrame'>\n",
      "RangeIndex: 999 entries, 0 to 998\n",
      "Columns: 152 entries, 0 to 0.113\n",
      "dtypes: float64(4), int64(148)\n",
      "memory usage: 1.2 MB\n"
     ]
    }
   ],
   "source": [
    "# Create DataFrame\n",
    "train = pd.read_csv(filename)\n",
    "train_data = train.copy()\n",
    "train_data.info()"
   ]
  },
  {
   "cell_type": "markdown",
   "id": "6ce18b78",
   "metadata": {},
   "source": [
    "# Data Preparation"
   ]
  },
  {
   "cell_type": "code",
   "execution_count": 5,
   "id": "6e4b7410",
   "metadata": {},
   "outputs": [],
   "source": [
    "array = train_data.values\n",
    "X_train = array[:, 0:151]\n",
    "y_train = array[:, 151]"
   ]
  },
  {
   "cell_type": "code",
   "execution_count": 6,
   "id": "d9507be9",
   "metadata": {},
   "outputs": [
    {
     "name": "stdout",
     "output_type": "stream",
     "text": [
      "(799, 151)\n"
     ]
    }
   ],
   "source": [
    "# Split into a train and validation set\n",
    "X_train, X_valid, y_train, y_valid = train_test_split(X_train, y_train, test_size=0.2, random_state=3)\n",
    "print(X_train.shape)"
   ]
  },
  {
   "cell_type": "code",
   "execution_count": 7,
   "id": "792ac5c4",
   "metadata": {},
   "outputs": [
    {
     "name": "stdout",
     "output_type": "stream",
     "text": [
      "9.0\n",
      "2.0\n"
     ]
    }
   ],
   "source": [
    "#Checking train and validation sets still splits across the target evenly\n",
    "print(y_train.sum())\n",
    "print(y_valid.sum())"
   ]
  },
  {
   "cell_type": "markdown",
   "id": "ce77114b",
   "metadata": {},
   "source": [
    "### Normalise Data"
   ]
  },
  {
   "cell_type": "code",
   "execution_count": 8,
   "id": "4cf1bd5d",
   "metadata": {},
   "outputs": [
    {
     "name": "stdout",
     "output_type": "stream",
     "text": [
      "(799, 151)\n"
     ]
    }
   ],
   "source": [
    "norm_scaler = MinMaxScaler(feature_range=(0, 1), clip=True).fit(X_train)\n",
    "n_X_train = norm_scaler.transform(X_train)\n",
    "print(n_X_train.shape)"
   ]
  },
  {
   "cell_type": "code",
   "execution_count": 9,
   "id": "30f4c899",
   "metadata": {},
   "outputs": [
    {
     "name": "stdout",
     "output_type": "stream",
     "text": [
      "(200, 151)\n"
     ]
    }
   ],
   "source": [
    "n_X_valid = norm_scaler.transform(X_valid)\n",
    "print(n_X_valid.shape)"
   ]
  },
  {
   "cell_type": "markdown",
   "id": "8b99b36d",
   "metadata": {},
   "source": [
    "# Variational Autoencoder"
   ]
  },
  {
   "cell_type": "code",
   "execution_count": 11,
   "id": "f9dd5ddb",
   "metadata": {},
   "outputs": [],
   "source": [
    "#Variational Autoencoder is used to generate 20 additional features to add to the data set\n",
    "class Sampling(keras.layers.Layer):\n",
    "    def call(self, input_data):\n",
    "        mean, log_var = input_data\n",
    "        return keras.backend.random_normal(tf.shape(log_var)) * keras.backend.exp(log_var / 2) + mean\n",
    "\n",
    "input_size = 151\n",
    "code_size = 20\n",
    "\n",
    "input_data = Input(shape=(input_size,))\n",
    "hidden_1 = Dense(75, activation='relu')(input_data)\n",
    "hidden_2 = Dense(35, activation='relu')(hidden_1)\n",
    "\n",
    "code_mean = Dense(code_size)(hidden_2)\n",
    "code_log_var = Dense(code_size)(hidden_2)\n",
    "code = Sampling()([code_mean, code_log_var])\n",
    "\n",
    "var_encoder = Model(input_data, outputs=code)\n",
    "\n",
    "decoder_inputs = Input(shape=[code_size])\n",
    "hidden_3 = Dense(35, activation='relu')(decoder_inputs)\n",
    "hidden_4 = Dense(75, activation='relu')(hidden_3)\n",
    "output_data = Dense(input_size, activation='sigmoid')(hidden_4)\n",
    "\n",
    "var_decoder = Model(inputs=decoder_inputs, outputs=output_data)\n",
    "\n",
    "code_input = Input(shape=(code_size,))\n",
    "reconst = var_decoder(code_input)\n",
    "var_ae = Model(inputs=code_input, outputs=reconst)"
   ]
  },
  {
   "cell_type": "code",
   "execution_count": 12,
   "id": "56840bd0",
   "metadata": {},
   "outputs": [
    {
     "name": "stdout",
     "output_type": "stream",
     "text": [
      "\u001b[1m25/25\u001b[0m \u001b[32m━━━━━━━━━━━━━━━━━━━━\u001b[0m\u001b[37m\u001b[0m \u001b[1m0s\u001b[0m 5ms/step\n",
      "\u001b[1m7/7\u001b[0m \u001b[32m━━━━━━━━━━━━━━━━━━━━\u001b[0m\u001b[37m\u001b[0m \u001b[1m0s\u001b[0m 5ms/step \n",
      "Epoch 1/10\n",
      "\u001b[1m25/25\u001b[0m \u001b[32m━━━━━━━━━━━━━━━━━━━━\u001b[0m\u001b[37m\u001b[0m \u001b[1m1s\u001b[0m 40ms/step - loss: 0.7638 - val_loss: 0.5863\n",
      "Epoch 2/10\n",
      "\u001b[1m25/25\u001b[0m \u001b[32m━━━━━━━━━━━━━━━━━━━━\u001b[0m\u001b[37m\u001b[0m \u001b[1m1s\u001b[0m 47ms/step - loss: 0.5048 - val_loss: 0.3162\n",
      "Epoch 3/10\n",
      "\u001b[1m25/25\u001b[0m \u001b[32m━━━━━━━━━━━━━━━━━━━━\u001b[0m\u001b[37m\u001b[0m \u001b[1m1s\u001b[0m 42ms/step - loss: 0.2859 - val_loss: 0.2491\n",
      "Epoch 4/10\n",
      "\u001b[1m25/25\u001b[0m \u001b[32m━━━━━━━━━━━━━━━━━━━━\u001b[0m\u001b[37m\u001b[0m \u001b[1m1s\u001b[0m 39ms/step - loss: 0.2470 - val_loss: 0.2377\n",
      "Epoch 5/10\n",
      "\u001b[1m25/25\u001b[0m \u001b[32m━━━━━━━━━━━━━━━━━━━━\u001b[0m\u001b[37m\u001b[0m \u001b[1m1s\u001b[0m 44ms/step - loss: 0.2379 - val_loss: 0.2359\n",
      "Epoch 6/10\n",
      "\u001b[1m25/25\u001b[0m \u001b[32m━━━━━━━━━━━━━━━━━━━━\u001b[0m\u001b[37m\u001b[0m \u001b[1m1s\u001b[0m 43ms/step - loss: 0.2376 - val_loss: 0.2383\n",
      "Epoch 7/10\n",
      "\u001b[1m25/25\u001b[0m \u001b[32m━━━━━━━━━━━━━━━━━━━━\u001b[0m\u001b[37m\u001b[0m \u001b[1m1s\u001b[0m 39ms/step - loss: 0.2320 - val_loss: 0.2338\n",
      "Epoch 8/10\n",
      "\u001b[1m25/25\u001b[0m \u001b[32m━━━━━━━━━━━━━━━━━━━━\u001b[0m\u001b[37m\u001b[0m \u001b[1m1s\u001b[0m 41ms/step - loss: 0.2338 - val_loss: 0.2324\n",
      "Epoch 9/10\n",
      "\u001b[1m25/25\u001b[0m \u001b[32m━━━━━━━━━━━━━━━━━━━━\u001b[0m\u001b[37m\u001b[0m \u001b[1m1s\u001b[0m 42ms/step - loss: 0.2328 - val_loss: 0.2322\n",
      "Epoch 10/10\n",
      "\u001b[1m25/25\u001b[0m \u001b[32m━━━━━━━━━━━━━━━━━━━━\u001b[0m\u001b[37m\u001b[0m \u001b[1m1s\u001b[0m 41ms/step - loss: 0.2343 - val_loss: 0.2331\n"
     ]
    }
   ],
   "source": [
    "# Custom loss function for Variational Autoencoder\n",
    "def losses_func(input_data, reconst):\n",
    "    code_mean = var_encoder(input_data)\n",
    "    code_log_var = var_encoder(input_data)\n",
    "    latent_loss = -0.5 * tf.reduce_sum(1 + code_log_var - tf.exp(code_log_var) - tf.square(code_mean), axis=-1)\n",
    "    reconstruction_loss = tf.keras.losses.binary_crossentropy(input_data, reconst)\n",
    "    return (tf.reduce_mean(latent_loss) / 151.) + reconstruction_loss\n",
    "\n",
    "var_ae.compile(optimizer='adam', loss=losses_func)\n",
    "\n",
    "# Enabling eager execution\n",
    "tf.config.run_functions_eagerly(True)\n",
    "\n",
    "# Encode input data using the encoder model\n",
    "encoded_train_data = var_encoder.predict(n_X_train)\n",
    "encoded_valid_data = var_encoder.predict(n_X_valid)\n",
    "\n",
    "# Train the Variational Autoencoder with the encoded features\n",
    "history = var_ae.fit(x=encoded_train_data, y=n_X_train, epochs=10, validation_data=(encoded_valid_data, n_X_valid))"
   ]
  },
  {
   "cell_type": "code",
   "execution_count": 13,
   "id": "0438cc61",
   "metadata": {},
   "outputs": [
    {
     "data": {
      "image/png": "[encoded data removed]",
      "text/plain": [
       "<Figure size 640x480 with 1 Axes>"
      ]
     },
     "metadata": {},
     "output_type": "display_data"
    }
   ],
   "source": [
    "pyplot.plot(history.history['loss'],label = 'train')\n",
    "pyplot.plot(history.history['val_loss'], label = 'valid')\n",
    "pyplot.legend()\n",
    "pyplot.show()  "
   ]
  },
  {
   "cell_type": "code",
   "execution_count": 14,
   "id": "19748b4c",
   "metadata": {},
   "outputs": [
    {
     "name": "stdout",
     "output_type": "stream",
     "text": [
      "\u001b[1m25/25\u001b[0m \u001b[32m━━━━━━━━━━━━━━━━━━━━\u001b[0m\u001b[37m\u001b[0m \u001b[1m0s\u001b[0m 4ms/step\n",
      "(799, 20)\n"
     ]
    }
   ],
   "source": [
    "#The trained variational encoder contains the reduced features from the code layer\n",
    "encoded = var_encoder\n",
    "gen_feat = encoded.predict(n_X_train)\n",
    "print(gen_feat.shape)"
   ]
  },
  {
   "cell_type": "code",
   "execution_count": 15,
   "id": "9a1a404d",
   "metadata": {},
   "outputs": [
    {
     "data": {
      "text/html": [
       "<div>\n",
       "<style scoped>\n",
       "    .dataframe tbody tr th:only-of-type {\n",
       "        vertical-align: middle;\n",
       "    }\n",
       "\n",
       "    .dataframe tbody tr th {\n",
       "        vertical-align: top;\n",
       "    }\n",
       "\n",
       "    .dataframe thead th {\n",
       "        text-align: right;\n",
       "    }\n",
       "</style>\n",
       "<table border=\"1\" class=\"dataframe\">\n",
       "  <thead>\n",
       "    <tr style=\"text-align: right;\">\n",
       "      <th></th>\n",
       "      <th>0</th>\n",
       "      <th>1</th>\n",
       "      <th>2</th>\n",
       "      <th>3</th>\n",
       "      <th>4</th>\n",
       "      <th>5</th>\n",
       "      <th>6</th>\n",
       "      <th>7</th>\n",
       "      <th>8</th>\n",
       "      <th>9</th>\n",
       "      <th>10</th>\n",
       "      <th>11</th>\n",
       "      <th>12</th>\n",
       "      <th>13</th>\n",
       "      <th>14</th>\n",
       "      <th>15</th>\n",
       "      <th>16</th>\n",
       "      <th>17</th>\n",
       "      <th>18</th>\n",
       "      <th>19</th>\n",
       "    </tr>\n",
       "  </thead>\n",
       "  <tbody>\n",
       "    <tr>\n",
       "      <th>count</th>\n",
       "      <td>799.000000</td>\n",
       "      <td>799.000000</td>\n",
       "      <td>799.000000</td>\n",
       "      <td>799.000000</td>\n",
       "      <td>799.000000</td>\n",
       "      <td>799.000000</td>\n",
       "      <td>799.000000</td>\n",
       "      <td>799.000000</td>\n",
       "      <td>799.000000</td>\n",
       "      <td>799.000000</td>\n",
       "      <td>799.000000</td>\n",
       "      <td>799.000000</td>\n",
       "      <td>799.000000</td>\n",
       "      <td>799.000000</td>\n",
       "      <td>799.000000</td>\n",
       "      <td>799.000000</td>\n",
       "      <td>799.000000</td>\n",
       "      <td>799.000000</td>\n",
       "      <td>799.000000</td>\n",
       "      <td>799.000000</td>\n",
       "    </tr>\n",
       "    <tr>\n",
       "      <th>mean</th>\n",
       "      <td>0.012579</td>\n",
       "      <td>0.248887</td>\n",
       "      <td>-0.151061</td>\n",
       "      <td>0.231326</td>\n",
       "      <td>-0.050255</td>\n",
       "      <td>-0.162416</td>\n",
       "      <td>-0.164377</td>\n",
       "      <td>-0.112620</td>\n",
       "      <td>-0.175843</td>\n",
       "      <td>0.105194</td>\n",
       "      <td>-0.302976</td>\n",
       "      <td>0.074969</td>\n",
       "      <td>-0.250736</td>\n",
       "      <td>-0.141972</td>\n",
       "      <td>0.076874</td>\n",
       "      <td>-0.046024</td>\n",
       "      <td>-0.252972</td>\n",
       "      <td>-0.112703</td>\n",
       "      <td>-0.139818</td>\n",
       "      <td>-0.129682</td>\n",
       "    </tr>\n",
       "    <tr>\n",
       "      <th>std</th>\n",
       "      <td>1.076697</td>\n",
       "      <td>0.977273</td>\n",
       "      <td>1.144164</td>\n",
       "      <td>0.912999</td>\n",
       "      <td>0.985630</td>\n",
       "      <td>0.955183</td>\n",
       "      <td>1.166511</td>\n",
       "      <td>1.003431</td>\n",
       "      <td>0.984224</td>\n",
       "      <td>0.892922</td>\n",
       "      <td>1.076948</td>\n",
       "      <td>0.980414</td>\n",
       "      <td>0.933338</td>\n",
       "      <td>1.132627</td>\n",
       "      <td>0.969560</td>\n",
       "      <td>1.024625</td>\n",
       "      <td>1.082380</td>\n",
       "      <td>1.059683</td>\n",
       "      <td>1.011476</td>\n",
       "      <td>1.017622</td>\n",
       "    </tr>\n",
       "    <tr>\n",
       "      <th>min</th>\n",
       "      <td>-3.205641</td>\n",
       "      <td>-2.645231</td>\n",
       "      <td>-3.707814</td>\n",
       "      <td>-2.776168</td>\n",
       "      <td>-3.347886</td>\n",
       "      <td>-3.622074</td>\n",
       "      <td>-3.206503</td>\n",
       "      <td>-4.032089</td>\n",
       "      <td>-3.227153</td>\n",
       "      <td>-2.526697</td>\n",
       "      <td>-3.421523</td>\n",
       "      <td>-2.778472</td>\n",
       "      <td>-3.547342</td>\n",
       "      <td>-3.910678</td>\n",
       "      <td>-3.030385</td>\n",
       "      <td>-3.802275</td>\n",
       "      <td>-4.218303</td>\n",
       "      <td>-2.978616</td>\n",
       "      <td>-3.699072</td>\n",
       "      <td>-2.974259</td>\n",
       "    </tr>\n",
       "    <tr>\n",
       "      <th>25%</th>\n",
       "      <td>-0.693434</td>\n",
       "      <td>-0.378949</td>\n",
       "      <td>-0.878480</td>\n",
       "      <td>-0.364769</td>\n",
       "      <td>-0.704547</td>\n",
       "      <td>-0.817090</td>\n",
       "      <td>-0.956001</td>\n",
       "      <td>-0.772483</td>\n",
       "      <td>-0.838138</td>\n",
       "      <td>-0.462319</td>\n",
       "      <td>-1.030788</td>\n",
       "      <td>-0.602155</td>\n",
       "      <td>-0.863337</td>\n",
       "      <td>-0.883323</td>\n",
       "      <td>-0.565127</td>\n",
       "      <td>-0.757496</td>\n",
       "      <td>-0.945808</td>\n",
       "      <td>-0.828233</td>\n",
       "      <td>-0.789063</td>\n",
       "      <td>-0.801219</td>\n",
       "    </tr>\n",
       "    <tr>\n",
       "      <th>50%</th>\n",
       "      <td>0.019164</td>\n",
       "      <td>0.266654</td>\n",
       "      <td>-0.181249</td>\n",
       "      <td>0.248142</td>\n",
       "      <td>0.015995</td>\n",
       "      <td>-0.200307</td>\n",
       "      <td>-0.121626</td>\n",
       "      <td>-0.077643</td>\n",
       "      <td>-0.174518</td>\n",
       "      <td>0.097041</td>\n",
       "      <td>-0.282320</td>\n",
       "      <td>0.119732</td>\n",
       "      <td>-0.271355</td>\n",
       "      <td>-0.146546</td>\n",
       "      <td>0.099368</td>\n",
       "      <td>-0.032863</td>\n",
       "      <td>-0.290560</td>\n",
       "      <td>-0.138645</td>\n",
       "      <td>-0.168997</td>\n",
       "      <td>-0.174774</td>\n",
       "    </tr>\n",
       "    <tr>\n",
       "      <th>75%</th>\n",
       "      <td>0.637879</td>\n",
       "      <td>0.889910</td>\n",
       "      <td>0.598679</td>\n",
       "      <td>0.850577</td>\n",
       "      <td>0.624198</td>\n",
       "      <td>0.481988</td>\n",
       "      <td>0.631119</td>\n",
       "      <td>0.565276</td>\n",
       "      <td>0.440888</td>\n",
       "      <td>0.651697</td>\n",
       "      <td>0.436539</td>\n",
       "      <td>0.705410</td>\n",
       "      <td>0.351088</td>\n",
       "      <td>0.587525</td>\n",
       "      <td>0.729086</td>\n",
       "      <td>0.700601</td>\n",
       "      <td>0.504667</td>\n",
       "      <td>0.554157</td>\n",
       "      <td>0.505073</td>\n",
       "      <td>0.527966</td>\n",
       "    </tr>\n",
       "    <tr>\n",
       "      <th>max</th>\n",
       "      <td>3.456403</td>\n",
       "      <td>3.290045</td>\n",
       "      <td>4.267019</td>\n",
       "      <td>2.852998</td>\n",
       "      <td>3.217038</td>\n",
       "      <td>4.047306</td>\n",
       "      <td>3.567671</td>\n",
       "      <td>2.751348</td>\n",
       "      <td>2.790703</td>\n",
       "      <td>3.367896</td>\n",
       "      <td>2.942042</td>\n",
       "      <td>4.131845</td>\n",
       "      <td>2.906036</td>\n",
       "      <td>2.953230</td>\n",
       "      <td>4.121284</td>\n",
       "      <td>3.217547</td>\n",
       "      <td>3.881460</td>\n",
       "      <td>2.918053</td>\n",
       "      <td>2.449868</td>\n",
       "      <td>3.504914</td>\n",
       "    </tr>\n",
       "  </tbody>\n",
       "</table>\n",
       "</div>"
      ],
      "text/plain": [
       "               0           1           2           3           4           5   \\\n",
       "count  799.000000  799.000000  799.000000  799.000000  799.000000  799.000000   \n",
       "mean     0.012579    0.248887   -0.151061    0.231326   -0.050255   -0.162416   \n",
       "std      1.076697    0.977273    1.144164    0.912999    0.985630    0.955183   \n",
       "min     -3.205641   -2.645231   -3.707814   -2.776168   -3.347886   -3.622074   \n",
       "25%     -0.693434   -0.378949   -0.878480   -0.364769   -0.704547   -0.817090   \n",
       "50%      0.019164    0.266654   -0.181249    0.248142    0.015995   -0.200307   \n",
       "75%      0.637879    0.889910    0.598679    0.850577    0.624198    0.481988   \n",
       "max      3.456403    3.290045    4.267019    2.852998    3.217038    4.047306   \n",
       "\n",
       "               6           7           8           9           10          11  \\\n",
       "count  799.000000  799.000000  799.000000  799.000000  799.000000  799.000000   \n",
       "mean    -0.164377   -0.112620   -0.175843    0.105194   -0.302976    0.074969   \n",
       "std      1.166511    1.003431    0.984224    0.892922    1.076948    0.980414   \n",
       "min     -3.206503   -4.032089   -3.227153   -2.526697   -3.421523   -2.778472   \n",
       "25%     -0.956001   -0.772483   -0.838138   -0.462319   -1.030788   -0.602155   \n",
       "50%     -0.121626   -0.077643   -0.174518    0.097041   -0.282320    0.119732   \n",
       "75%      0.631119    0.565276    0.440888    0.651697    0.436539    0.705410   \n",
       "max      3.567671    2.751348    2.790703    3.367896    2.942042    4.131845   \n",
       "\n",
       "               12          13          14          15          16          17  \\\n",
       "count  799.000000  799.000000  799.000000  799.000000  799.000000  799.000000   \n",
       "mean    -0.250736   -0.141972    0.076874   -0.046024   -0.252972   -0.112703   \n",
       "std      0.933338    1.132627    0.969560    1.024625    1.082380    1.059683   \n",
       "min     -3.547342   -3.910678   -3.030385   -3.802275   -4.218303   -2.978616   \n",
       "25%     -0.863337   -0.883323   -0.565127   -0.757496   -0.945808   -0.828233   \n",
       "50%     -0.271355   -0.146546    0.099368   -0.032863   -0.290560   -0.138645   \n",
       "75%      0.351088    0.587525    0.729086    0.700601    0.504667    0.554157   \n",
       "max      2.906036    2.953230    4.121284    3.217547    3.881460    2.918053   \n",
       "\n",
       "               18          19  \n",
       "count  799.000000  799.000000  \n",
       "mean    -0.139818   -0.129682  \n",
       "std      1.011476    1.017622  \n",
       "min     -3.699072   -2.974259  \n",
       "25%     -0.789063   -0.801219  \n",
       "50%     -0.168997   -0.174774  \n",
       "75%      0.505073    0.527966  \n",
       "max      2.449868    3.504914  "
      ]
     },
     "execution_count": 15,
     "metadata": {},
     "output_type": "execute_result"
    }
   ],
   "source": [
    "#Statistics of the generated output features\n",
    "gen_featdf = pd.DataFrame(gen_feat)\n",
    "gen_featdf.describe()"
   ]
  },
  {
   "cell_type": "markdown",
   "id": "63be3307",
   "metadata": {},
   "source": [
    "The Variational Encoder code layer, the generated features have a mean of 0 and a standard deviation of 1"
   ]
  },
  {
   "cell_type": "code",
   "execution_count": 16,
   "id": "31b421cc",
   "metadata": {},
   "outputs": [],
   "source": [
    "#Normalising the generated features and creating a dataframe with new column labels\n",
    "norm_scaler20 = MinMaxScaler(feature_range = (0,1), clip = True).fit(gen_feat)\n",
    "n_gen_feat = norm_scaler20.transform(gen_feat)\n",
    "n_gen_feat = pd.DataFrame(n_gen_feat)\n",
    "new_col_headers = map(str,[160,161,162,163,164,165,166,167,168,169, 170,171,172,173,174,175,176,177,178,179])\n",
    "n_gen_feat.columns= new_col_headers"
   ]
  },
  {
   "cell_type": "code",
   "execution_count": 17,
   "id": "1ed6b238",
   "metadata": {},
   "outputs": [
    {
     "name": "stdout",
     "output_type": "stream",
     "text": [
      "(799, 171)\n"
     ]
    }
   ],
   "source": [
    "#Adding generated features dataframe to original features dataframe\n",
    "num_data = open('column_names.csv') #Column names\n",
    "num_lst = []\n",
    "for label in num_data:\n",
    "    label = label.rstrip()\n",
    "    num_lst.append(label)\n",
    "\n",
    "n_orig_feat = pd.DataFrame(n_X_train, columns = num_lst)\n",
    "n_all_feat = pd.concat([n_orig_feat,n_gen_feat],axis = 1)\n",
    "print(n_all_feat.shape)"
   ]
  }
 ],
 "metadata": {
  "kernelspec": {
   "display_name": "Python 3 (ipykernel)",
   "language": "python",
   "name": "python3"
  },
  "language_info": {
   "codemirror_mode": {
    "name": "ipython",
    "version": 3
   },
   "file_extension": ".py",
   "mimetype": "text/x-python",
   "name": "python",
   "nbconvert_exporter": "python",
   "pygments_lexer": "ipython3",
   "version": "3.11.5"
  }
 },
 "nbformat": 4,
 "nbformat_minor": 5
}
