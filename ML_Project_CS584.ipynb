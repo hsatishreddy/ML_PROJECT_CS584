{
 "cells": [
  {
   "cell_type": "markdown",
   "id": "4273b36a",
   "metadata": {},
   "source": [
    "# Cyber Security Threat Detection Using Machine Learning Frameworks"
   ]
  },
  {
   "cell_type": "code",
   "execution_count": 1,
   "id": "c181400e",
   "metadata": {},
   "outputs": [],
   "source": [
    "import os\n",
    "os.chdir('/Users/harshithareddy/Desktop')\n",
    "filename = 'output_final.csv'"
   ]
  },
  {
   "cell_type": "code",
   "execution_count": 2,
   "id": "a4b89ead",
   "metadata": {},
   "outputs": [],
   "source": [
    "#Importing packages\n",
    "import pandas as pd\n",
    "import numpy as np\n",
    "import seaborn as sns\n",
    "\n",
    "from matplotlib import pyplot\n",
    "\n",
    "from sklearn.preprocessing import MinMaxScaler, StandardScaler\n",
    "from sklearn.pipeline import FeatureUnion, Pipeline\n",
    "from sklearn.model_selection import train_test_split, KFold, cross_val_score, RandomizedSearchCV, GridSearchCV\n",
    "from sklearn.feature_selection import VarianceThreshold, SelectKBest, chi2, mutual_info_classif\n",
    "from sklearn.ensemble import ExtraTreesClassifier\n",
    "\n",
    "from sklearn.linear_model import LogisticRegression\n",
    "from sklearn.discriminant_analysis import LinearDiscriminantAnalysis, QuadraticDiscriminantAnalysis\n",
    "from sklearn.neighbors import KNeighborsClassifier\n",
    "from sklearn.tree import DecisionTreeClassifier\n",
    "from sklearn.naive_bayes import GaussianNB\n",
    "from sklearn.svm import SVC, LinearSVC\n",
    "\n",
    "from sklearn.metrics import roc_curve, roc_auc_score, confusion_matrix, classification_report\n",
    "\n",
    "import tensorflow as tf\n",
    "from tensorflow import keras\n",
    "from keras.models import Model\n",
    "from keras.layers import Lambda, Input, Dense\n",
    "from keras.losses import binary_crossentropy\n",
    "\n",
    "from pandas.plotting import scatter_matrix\n",
    "\n",
    "from tensorflow.python.framework.ops import disable_eager_execution\n",
    "# disable_eager_execution()  # Remove this line to enable eager execution\n",
    "\n",
    "import warnings\n",
    "warnings.filterwarnings('ignore')\n",
    "\n",
    "from __future__ import print_function"
   ]
  },
  {
   "cell_type": "code",
   "execution_count": 3,
   "id": "e7270e8c",
   "metadata": {},
   "outputs": [
    {
     "name": "stdout",
     "output_type": "stream",
     "text": [
      "<class 'pandas.core.frame.DataFrame'>\n",
      "RangeIndex: 999 entries, 0 to 998\n",
      "Columns: 152 entries, 0 to 0.113\n",
      "dtypes: float64(4), int64(148)\n",
      "memory usage: 1.2 MB\n"
     ]
    }
   ],
   "source": [
    "# Create DataFrame\n",
    "train = pd.read_csv(filename)\n",
    "train_data = train.copy()\n",
    "train_data.info()"
   ]
  },
  {
   "cell_type": "markdown",
   "id": "6ce18b78",
   "metadata": {},
   "source": [
    "# Data Preparation"
   ]
  },
  {
   "cell_type": "code",
   "execution_count": 4,
   "id": "6e4b7410",
   "metadata": {},
   "outputs": [],
   "source": [
    "array = train_data.values\n",
    "X_train = array[:, 0:151]\n",
    "y_train = array[:, 151]"
   ]
  },
  {
   "cell_type": "code",
   "execution_count": 5,
   "id": "d9507be9",
   "metadata": {},
   "outputs": [
    {
     "name": "stdout",
     "output_type": "stream",
     "text": [
      "(799, 151)\n"
     ]
    }
   ],
   "source": [
    "# Split into a train and validation set\n",
    "X_train, X_valid, y_train, y_valid = train_test_split(X_train, y_train, test_size=0.2, random_state=3)\n",
    "print(X_train.shape)"
   ]
  },
  {
   "cell_type": "code",
   "execution_count": 6,
   "id": "792ac5c4",
   "metadata": {},
   "outputs": [
    {
     "name": "stdout",
     "output_type": "stream",
     "text": [
      "9.0\n",
      "2.0\n"
     ]
    }
   ],
   "source": [
    "#Checking train and validation sets still splits across the target evenly\n",
    "print(y_train.sum())\n",
    "print(y_valid.sum())"
   ]
  },
  {
   "cell_type": "markdown",
   "id": "ce77114b",
   "metadata": {},
   "source": [
    "### Normalise Data"
   ]
  },
  {
   "cell_type": "code",
   "execution_count": 7,
   "id": "4cf1bd5d",
   "metadata": {},
   "outputs": [
    {
     "name": "stdout",
     "output_type": "stream",
     "text": [
      "(799, 151)\n"
     ]
    }
   ],
   "source": [
    "norm_scaler = MinMaxScaler(feature_range=(0, 1), clip=True).fit(X_train)\n",
    "n_X_train = norm_scaler.transform(X_train)\n",
    "print(n_X_train.shape)"
   ]
  },
  {
   "cell_type": "code",
   "execution_count": 8,
   "id": "30f4c899",
   "metadata": {},
   "outputs": [
    {
     "name": "stdout",
     "output_type": "stream",
     "text": [
      "(200, 151)\n"
     ]
    }
   ],
   "source": [
    "n_X_valid = norm_scaler.transform(X_valid)\n",
    "print(n_X_valid.shape)"
   ]
  },
  {
   "cell_type": "markdown",
   "id": "8b99b36d",
   "metadata": {},
   "source": [
    "# Variational Autoencoder"
   ]
  },
  {
   "cell_type": "code",
   "execution_count": 9,
   "id": "f9dd5ddb",
   "metadata": {},
   "outputs": [],
   "source": [
    "#Variational Autoencoder is used to generate 20 additional features to add to the data set\n",
    "class Sampling(keras.layers.Layer):\n",
    "    def call(self, input_data):\n",
    "        mean, log_var = input_data\n",
    "        return keras.backend.random_normal(tf.shape(log_var)) * keras.backend.exp(log_var / 2) + mean\n",
    "\n",
    "input_size = 151\n",
    "code_size = 20\n",
    "\n",
    "input_data = Input(shape=(input_size,))\n",
    "hidden_1 = Dense(75, activation='relu')(input_data)\n",
    "hidden_2 = Dense(35, activation='relu')(hidden_1)\n",
    "\n",
    "code_mean = Dense(code_size)(hidden_2)\n",
    "code_log_var = Dense(code_size)(hidden_2)\n",
    "code = Sampling()([code_mean, code_log_var])\n",
    "\n",
    "var_encoder = Model(input_data, outputs=code)\n",
    "\n",
    "decoder_inputs = Input(shape=[code_size])\n",
    "hidden_3 = Dense(35, activation='relu')(decoder_inputs)\n",
    "hidden_4 = Dense(75, activation='relu')(hidden_3)\n",
    "output_data = Dense(input_size, activation='sigmoid')(hidden_4)\n",
    "\n",
    "var_decoder = Model(inputs=decoder_inputs, outputs=output_data)\n",
    "\n",
    "code_input = Input(shape=(code_size,))\n",
    "reconst = var_decoder(code_input)\n",
    "var_ae = Model(inputs=code_input, outputs=reconst)"
   ]
  },
  {
   "cell_type": "code",
   "execution_count": 10,
   "id": "56840bd0",
   "metadata": {},
   "outputs": [
    {
     "name": "stdout",
     "output_type": "stream",
     "text": [
      "\u001b[1m25/25\u001b[0m \u001b[32m━━━━━━━━━━━━━━━━━━━━\u001b[0m\u001b[37m\u001b[0m \u001b[1m0s\u001b[0m 1ms/step \n",
      "\u001b[1m7/7\u001b[0m \u001b[32m━━━━━━━━━━━━━━━━━━━━\u001b[0m\u001b[37m\u001b[0m \u001b[1m0s\u001b[0m 1ms/step\n",
      "Epoch 1/10\n",
      "\u001b[1m25/25\u001b[0m \u001b[32m━━━━━━━━━━━━━━━━━━━━\u001b[0m\u001b[37m\u001b[0m \u001b[1m0s\u001b[0m 14ms/step - loss: 0.7632 - val_loss: 0.5773\n",
      "Epoch 2/10\n",
      "\u001b[1m25/25\u001b[0m \u001b[32m━━━━━━━━━━━━━━━━━━━━\u001b[0m\u001b[37m\u001b[0m \u001b[1m0s\u001b[0m 13ms/step - loss: 0.4937 - val_loss: 0.3146\n",
      "Epoch 3/10\n",
      "\u001b[1m25/25\u001b[0m \u001b[32m━━━━━━━━━━━━━━━━━━━━\u001b[0m\u001b[37m\u001b[0m \u001b[1m0s\u001b[0m 14ms/step - loss: 0.2864 - val_loss: 0.2527\n",
      "Epoch 4/10\n",
      "\u001b[1m25/25\u001b[0m \u001b[32m━━━━━━━━━━━━━━━━━━━━\u001b[0m\u001b[37m\u001b[0m \u001b[1m0s\u001b[0m 14ms/step - loss: 0.2422 - val_loss: 0.2408\n",
      "Epoch 5/10\n",
      "\u001b[1m25/25\u001b[0m \u001b[32m━━━━━━━━━━━━━━━━━━━━\u001b[0m\u001b[37m\u001b[0m \u001b[1m0s\u001b[0m 14ms/step - loss: 0.2396 - val_loss: 0.2405\n",
      "Epoch 6/10\n",
      "\u001b[1m25/25\u001b[0m \u001b[32m━━━━━━━━━━━━━━━━━━━━\u001b[0m\u001b[37m\u001b[0m \u001b[1m0s\u001b[0m 14ms/step - loss: 0.2338 - val_loss: 0.2370\n",
      "Epoch 7/10\n",
      "\u001b[1m25/25\u001b[0m \u001b[32m━━━━━━━━━━━━━━━━━━━━\u001b[0m\u001b[37m\u001b[0m \u001b[1m0s\u001b[0m 14ms/step - loss: 0.2311 - val_loss: 0.2341\n",
      "Epoch 8/10\n",
      "\u001b[1m25/25\u001b[0m \u001b[32m━━━━━━━━━━━━━━━━━━━━\u001b[0m\u001b[37m\u001b[0m \u001b[1m0s\u001b[0m 14ms/step - loss: 0.2314 - val_loss: 0.2331\n",
      "Epoch 9/10\n",
      "\u001b[1m25/25\u001b[0m \u001b[32m━━━━━━━━━━━━━━━━━━━━\u001b[0m\u001b[37m\u001b[0m \u001b[1m0s\u001b[0m 14ms/step - loss: 0.2281 - val_loss: 0.2322\n",
      "Epoch 10/10\n",
      "\u001b[1m25/25\u001b[0m \u001b[32m━━━━━━━━━━━━━━━━━━━━\u001b[0m\u001b[37m\u001b[0m \u001b[1m0s\u001b[0m 14ms/step - loss: 0.2315 - val_loss: 0.2348\n"
     ]
    }
   ],
   "source": [
    "# Custom loss function for Variational Autoencoder\n",
    "def losses_func(input_data, reconst):\n",
    "    code_mean = var_encoder(input_data)\n",
    "    code_log_var = var_encoder(input_data)\n",
    "    latent_loss = -0.5 * tf.reduce_sum(1 + code_log_var - tf.exp(code_log_var) - tf.square(code_mean), axis=-1)\n",
    "    reconstruction_loss = tf.keras.losses.binary_crossentropy(input_data, reconst)\n",
    "    return (tf.reduce_mean(latent_loss) / 151.) + reconstruction_loss\n",
    "\n",
    "var_ae.compile(optimizer='adam', loss=losses_func)\n",
    "\n",
    "# Enabling eager execution\n",
    "tf.config.run_functions_eagerly(True)\n",
    "\n",
    "# Encode input data using the encoder model\n",
    "encoded_train_data = var_encoder.predict(n_X_train)\n",
    "encoded_valid_data = var_encoder.predict(n_X_valid)\n",
    "\n",
    "# Train the Variational Autoencoder with the encoded features\n",
    "history = var_ae.fit(x=encoded_train_data, y=n_X_train, epochs=10, validation_data=(encoded_valid_data, n_X_valid))"
   ]
  },
  {
   "cell_type": "code",
   "execution_count": 11,
   "id": "0438cc61",
   "metadata": {},
   "outputs": [
    {
     "data": {
      "image/png": "[encoded data removed]",
      "text/plain": [
       "<Figure size 640x480 with 1 Axes>"
      ]
     },
     "metadata": {},
     "output_type": "display_data"
    }
   ],
   "source": [
    "pyplot.plot(history.history['loss'],label = 'train')\n",
    "pyplot.plot(history.history['val_loss'], label = 'valid')\n",
    "pyplot.legend()\n",
    "pyplot.show()  "
   ]
  },
  {
   "cell_type": "code",
   "execution_count": 12,
   "id": "19748b4c",
   "metadata": {},
   "outputs": [
    {
     "name": "stdout",
     "output_type": "stream",
     "text": [
      "\u001b[1m25/25\u001b[0m \u001b[32m━━━━━━━━━━━━━━━━━━━━\u001b[0m\u001b[37m\u001b[0m \u001b[1m0s\u001b[0m 3ms/step\n",
      "(799, 20)\n"
     ]
    }
   ],
   "source": [
    "#The trained variational encoder contains the reduced features from the code layer\n",
    "encoded = var_encoder\n",
    "gen_feat = encoded.predict(n_X_train)\n",
    "print(gen_feat.shape)"
   ]
  },
  {
   "cell_type": "code",
   "execution_count": 13,
   "id": "9a1a404d",
   "metadata": {},
   "outputs": [
    {
     "data": {
      "text/html": [
       "<div>\n",
       "<style scoped>\n",
       "    .dataframe tbody tr th:only-of-type {\n",
       "        vertical-align: middle;\n",
       "    }\n",
       "\n",
       "    .dataframe tbody tr th {\n",
       "        vertical-align: top;\n",
       "    }\n",
       "\n",
       "    .dataframe thead th {\n",
       "        text-align: right;\n",
       "    }\n",
       "</style>\n",
       "<table border=\"1\" class=\"dataframe\">\n",
       "  <thead>\n",
       "    <tr style=\"text-align: right;\">\n",
       "      <th></th>\n",
       "      <th>0</th>\n",
       "      <th>1</th>\n",
       "      <th>2</th>\n",
       "      <th>3</th>\n",
       "      <th>4</th>\n",
       "      <th>5</th>\n",
       "      <th>6</th>\n",
       "      <th>7</th>\n",
       "      <th>8</th>\n",
       "      <th>9</th>\n",
       "      <th>10</th>\n",
       "      <th>11</th>\n",
       "      <th>12</th>\n",
       "      <th>13</th>\n",
       "      <th>14</th>\n",
       "      <th>15</th>\n",
       "      <th>16</th>\n",
       "      <th>17</th>\n",
       "      <th>18</th>\n",
       "      <th>19</th>\n",
       "    </tr>\n",
       "  </thead>\n",
       "  <tbody>\n",
       "    <tr>\n",
       "      <th>count</th>\n",
       "      <td>799.000000</td>\n",
       "      <td>799.000000</td>\n",
       "      <td>799.000000</td>\n",
       "      <td>799.000000</td>\n",
       "      <td>799.000000</td>\n",
       "      <td>799.000000</td>\n",
       "      <td>799.000000</td>\n",
       "      <td>799.000000</td>\n",
       "      <td>799.000000</td>\n",
       "      <td>799.000000</td>\n",
       "      <td>799.000000</td>\n",
       "      <td>799.000000</td>\n",
       "      <td>799.000000</td>\n",
       "      <td>799.000000</td>\n",
       "      <td>799.000000</td>\n",
       "      <td>799.000000</td>\n",
       "      <td>799.000000</td>\n",
       "      <td>799.000000</td>\n",
       "      <td>799.000000</td>\n",
       "      <td>799.000000</td>\n",
       "    </tr>\n",
       "    <tr>\n",
       "      <th>mean</th>\n",
       "      <td>0.051318</td>\n",
       "      <td>0.066510</td>\n",
       "      <td>0.216409</td>\n",
       "      <td>0.121266</td>\n",
       "      <td>-0.001997</td>\n",
       "      <td>0.022462</td>\n",
       "      <td>0.018569</td>\n",
       "      <td>-0.121991</td>\n",
       "      <td>0.125270</td>\n",
       "      <td>0.022344</td>\n",
       "      <td>-0.136057</td>\n",
       "      <td>0.151437</td>\n",
       "      <td>-0.120794</td>\n",
       "      <td>0.052366</td>\n",
       "      <td>-0.086945</td>\n",
       "      <td>0.123048</td>\n",
       "      <td>0.074215</td>\n",
       "      <td>0.179935</td>\n",
       "      <td>-0.098409</td>\n",
       "      <td>0.442958</td>\n",
       "    </tr>\n",
       "    <tr>\n",
       "      <th>std</th>\n",
       "      <td>0.878137</td>\n",
       "      <td>0.854684</td>\n",
       "      <td>0.953190</td>\n",
       "      <td>0.911102</td>\n",
       "      <td>1.031117</td>\n",
       "      <td>1.021124</td>\n",
       "      <td>0.947383</td>\n",
       "      <td>1.025155</td>\n",
       "      <td>1.040674</td>\n",
       "      <td>0.906779</td>\n",
       "      <td>1.079832</td>\n",
       "      <td>1.014471</td>\n",
       "      <td>0.947518</td>\n",
       "      <td>1.006457</td>\n",
       "      <td>1.094040</td>\n",
       "      <td>0.987997</td>\n",
       "      <td>1.035408</td>\n",
       "      <td>0.952899</td>\n",
       "      <td>1.029516</td>\n",
       "      <td>1.027205</td>\n",
       "    </tr>\n",
       "    <tr>\n",
       "      <th>min</th>\n",
       "      <td>-2.686767</td>\n",
       "      <td>-3.009335</td>\n",
       "      <td>-2.467596</td>\n",
       "      <td>-2.824151</td>\n",
       "      <td>-3.179710</td>\n",
       "      <td>-3.176383</td>\n",
       "      <td>-3.364993</td>\n",
       "      <td>-3.329576</td>\n",
       "      <td>-3.574659</td>\n",
       "      <td>-2.530546</td>\n",
       "      <td>-2.958592</td>\n",
       "      <td>-3.333032</td>\n",
       "      <td>-3.436123</td>\n",
       "      <td>-3.063894</td>\n",
       "      <td>-3.498911</td>\n",
       "      <td>-2.898695</td>\n",
       "      <td>-3.014067</td>\n",
       "      <td>-3.175937</td>\n",
       "      <td>-3.577396</td>\n",
       "      <td>-3.216249</td>\n",
       "    </tr>\n",
       "    <tr>\n",
       "      <th>25%</th>\n",
       "      <td>-0.560865</td>\n",
       "      <td>-0.504014</td>\n",
       "      <td>-0.408177</td>\n",
       "      <td>-0.503205</td>\n",
       "      <td>-0.717586</td>\n",
       "      <td>-0.665638</td>\n",
       "      <td>-0.639248</td>\n",
       "      <td>-0.797831</td>\n",
       "      <td>-0.563267</td>\n",
       "      <td>-0.573342</td>\n",
       "      <td>-0.890730</td>\n",
       "      <td>-0.531282</td>\n",
       "      <td>-0.712453</td>\n",
       "      <td>-0.603795</td>\n",
       "      <td>-0.824077</td>\n",
       "      <td>-0.520363</td>\n",
       "      <td>-0.635026</td>\n",
       "      <td>-0.430546</td>\n",
       "      <td>-0.763451</td>\n",
       "      <td>-0.277347</td>\n",
       "    </tr>\n",
       "    <tr>\n",
       "      <th>50%</th>\n",
       "      <td>0.055118</td>\n",
       "      <td>0.050571</td>\n",
       "      <td>0.192616</td>\n",
       "      <td>0.132629</td>\n",
       "      <td>0.040112</td>\n",
       "      <td>0.023592</td>\n",
       "      <td>-0.014753</td>\n",
       "      <td>-0.133139</td>\n",
       "      <td>0.117335</td>\n",
       "      <td>0.041308</td>\n",
       "      <td>-0.099256</td>\n",
       "      <td>0.173505</td>\n",
       "      <td>-0.110280</td>\n",
       "      <td>0.031029</td>\n",
       "      <td>-0.069485</td>\n",
       "      <td>0.096378</td>\n",
       "      <td>0.093569</td>\n",
       "      <td>0.189215</td>\n",
       "      <td>-0.123222</td>\n",
       "      <td>0.490826</td>\n",
       "    </tr>\n",
       "    <tr>\n",
       "      <th>75%</th>\n",
       "      <td>0.677647</td>\n",
       "      <td>0.674001</td>\n",
       "      <td>0.834747</td>\n",
       "      <td>0.708450</td>\n",
       "      <td>0.713641</td>\n",
       "      <td>0.684100</td>\n",
       "      <td>0.659322</td>\n",
       "      <td>0.519961</td>\n",
       "      <td>0.796010</td>\n",
       "      <td>0.666450</td>\n",
       "      <td>0.571146</td>\n",
       "      <td>0.849754</td>\n",
       "      <td>0.477330</td>\n",
       "      <td>0.722141</td>\n",
       "      <td>0.657561</td>\n",
       "      <td>0.788357</td>\n",
       "      <td>0.780568</td>\n",
       "      <td>0.775585</td>\n",
       "      <td>0.567749</td>\n",
       "      <td>1.164515</td>\n",
       "    </tr>\n",
       "    <tr>\n",
       "      <th>max</th>\n",
       "      <td>3.379782</td>\n",
       "      <td>3.128747</td>\n",
       "      <td>3.097495</td>\n",
       "      <td>2.782581</td>\n",
       "      <td>3.882154</td>\n",
       "      <td>4.564380</td>\n",
       "      <td>3.152117</td>\n",
       "      <td>3.388970</td>\n",
       "      <td>3.326988</td>\n",
       "      <td>2.696861</td>\n",
       "      <td>3.089550</td>\n",
       "      <td>3.008793</td>\n",
       "      <td>3.033540</td>\n",
       "      <td>3.379113</td>\n",
       "      <td>3.102892</td>\n",
       "      <td>3.289660</td>\n",
       "      <td>3.262309</td>\n",
       "      <td>4.210664</td>\n",
       "      <td>2.799370</td>\n",
       "      <td>3.278901</td>\n",
       "    </tr>\n",
       "  </tbody>\n",
       "</table>\n",
       "</div>"
      ],
      "text/plain": [
       "               0           1           2           3           4           5   \\\n",
       "count  799.000000  799.000000  799.000000  799.000000  799.000000  799.000000   \n",
       "mean     0.051318    0.066510    0.216409    0.121266   -0.001997    0.022462   \n",
       "std      0.878137    0.854684    0.953190    0.911102    1.031117    1.021124   \n",
       "min     -2.686767   -3.009335   -2.467596   -2.824151   -3.179710   -3.176383   \n",
       "25%     -0.560865   -0.504014   -0.408177   -0.503205   -0.717586   -0.665638   \n",
       "50%      0.055118    0.050571    0.192616    0.132629    0.040112    0.023592   \n",
       "75%      0.677647    0.674001    0.834747    0.708450    0.713641    0.684100   \n",
       "max      3.379782    3.128747    3.097495    2.782581    3.882154    4.564380   \n",
       "\n",
       "               6           7           8           9           10          11  \\\n",
       "count  799.000000  799.000000  799.000000  799.000000  799.000000  799.000000   \n",
       "mean     0.018569   -0.121991    0.125270    0.022344   -0.136057    0.151437   \n",
       "std      0.947383    1.025155    1.040674    0.906779    1.079832    1.014471   \n",
       "min     -3.364993   -3.329576   -3.574659   -2.530546   -2.958592   -3.333032   \n",
       "25%     -0.639248   -0.797831   -0.563267   -0.573342   -0.890730   -0.531282   \n",
       "50%     -0.014753   -0.133139    0.117335    0.041308   -0.099256    0.173505   \n",
       "75%      0.659322    0.519961    0.796010    0.666450    0.571146    0.849754   \n",
       "max      3.152117    3.388970    3.326988    2.696861    3.089550    3.008793   \n",
       "\n",
       "               12          13          14          15          16          17  \\\n",
       "count  799.000000  799.000000  799.000000  799.000000  799.000000  799.000000   \n",
       "mean    -0.120794    0.052366   -0.086945    0.123048    0.074215    0.179935   \n",
       "std      0.947518    1.006457    1.094040    0.987997    1.035408    0.952899   \n",
       "min     -3.436123   -3.063894   -3.498911   -2.898695   -3.014067   -3.175937   \n",
       "25%     -0.712453   -0.603795   -0.824077   -0.520363   -0.635026   -0.430546   \n",
       "50%     -0.110280    0.031029   -0.069485    0.096378    0.093569    0.189215   \n",
       "75%      0.477330    0.722141    0.657561    0.788357    0.780568    0.775585   \n",
       "max      3.033540    3.379113    3.102892    3.289660    3.262309    4.210664   \n",
       "\n",
       "               18          19  \n",
       "count  799.000000  799.000000  \n",
       "mean    -0.098409    0.442958  \n",
       "std      1.029516    1.027205  \n",
       "min     -3.577396   -3.216249  \n",
       "25%     -0.763451   -0.277347  \n",
       "50%     -0.123222    0.490826  \n",
       "75%      0.567749    1.164515  \n",
       "max      2.799370    3.278901  "
      ]
     },
     "execution_count": 13,
     "metadata": {},
     "output_type": "execute_result"
    }
   ],
   "source": [
    "#Statistics of the generated output features\n",
    "gen_featdf = pd.DataFrame(gen_feat)\n",
    "gen_featdf.describe()"
   ]
  },
  {
   "cell_type": "markdown",
   "id": "63be3307",
   "metadata": {},
   "source": [
    "The Variational Encoder code layer, the generated features have a mean of 0 and a standard deviation of 1"
   ]
  },
  {
   "cell_type": "code",
   "execution_count": 14,
   "id": "31b421cc",
   "metadata": {},
   "outputs": [],
   "source": [
    "#Normalising the generated features and creating a dataframe with new column labels\n",
    "norm_scaler20 = MinMaxScaler(feature_range = (0,1), clip = True).fit(gen_feat)\n",
    "n_gen_feat = norm_scaler20.transform(gen_feat)\n",
    "n_gen_feat = pd.DataFrame(n_gen_feat)\n",
    "new_col_headers = map(str,[160,161,162,163,164,165,166,167,168,169, 170,171,172,173,174,175,176,177,178,179])\n",
    "n_gen_feat.columns= new_col_headers"
   ]
  },
  {
   "cell_type": "code",
   "execution_count": 15,
   "id": "1ed6b238",
   "metadata": {},
   "outputs": [
    {
     "name": "stdout",
     "output_type": "stream",
     "text": [
      "(799, 171)\n"
     ]
    }
   ],
   "source": [
    "#Adding generated features dataframe to original features dataframe\n",
    "num_data = open('column_names.csv') #Column names\n",
    "num_lst = []\n",
    "for label in num_data:\n",
    "    label = label.rstrip()\n",
    "    num_lst.append(label)\n",
    "\n",
    "n_orig_feat = pd.DataFrame(n_X_train, columns = num_lst)\n",
    "n_all_feat = pd.concat([n_orig_feat,n_gen_feat],axis = 1)\n",
    "print(n_all_feat.shape)"
   ]
  },
  {
   "cell_type": "markdown",
   "id": "513bc8b0-0bdd-4da0-b594-dd5d1b347fcd",
   "metadata": {},
   "source": [
    "# Feature Selection"
   ]
  },
  {
   "cell_type": "markdown",
   "id": "fdcd442b-592e-4b2c-9a6d-3465a150eb6b",
   "metadata": {},
   "source": [
    "### Variance Threshold Filter"
   ]
  },
  {
   "cell_type": "code",
   "execution_count": 16,
   "id": "ecadb01f-e2d1-4064-92bb-57511d8a926e",
   "metadata": {},
   "outputs": [
    {
     "name": "stdout",
     "output_type": "stream",
     "text": [
      "Index(['frame.time_delta', 'frame.time_delta_displayed', 'frame.len',\n",
      "       'frame.cap_len', 'frame.marked', 'frame.ignored',\n",
      "       'radiotap.flags.preamble', 'radiotap.channel.type.turbo',\n",
      "       'radiotap.channel.type.2ghz', 'radiotap.channel.type.5ghz',\n",
      "       'radiotap.rxflags.badplcp', 'wlan.fc.ds', 'wlan.fc.frag',\n",
      "       'wlan.fc.moredata', 'wlan.fc.protected', 'wlan.fc.order',\n",
      "       'wlan.duration', 'wlan.ta', 'wlan.ba.control.multitid',\n",
      "       'wlan_mgt.fixed.capabilities.privacy',\n",
      "       'wlan_mgt.fixed.capabilities.agility',\n",
      "       'wlan_mgt.fixed.capabilities.spec_man',\n",
      "       'wlan_mgt.fixed.capabilities.dsss_ofdm', 'wlan_mgt.fixed.reason_code',\n",
      "       'wlan_mgt.ds.current_channel', 'wlan_mgt.tim.dtim_count',\n",
      "       'wlan_mgt.tim.dtim_period', 'wlan_mgt.tim.bmapctl.multicast',\n",
      "       'wlan_mgt.tim.bmapctl.offset', 'wlan_mgt.rsn.gcs.type',\n",
      "       'wlan_mgt.rsn.pcs.count', 'wlan_mgt.rsn.akms.count',\n",
      "       'wlan_mgt.rsn.akms.type', 'wlan_mgt.rsn.capabilities.preauth',\n",
      "       'wlan.wep.icv', 'wlan.qos.eosp', 'wlan.qos.ack', '160', '161', '162',\n",
      "       '163', '164', '165', '166', '167', '168', '169', '170', '171', '172',\n",
      "       '173', '174', '175', '176', '177', '178', '179'],\n",
      "      dtype='object')\n",
      "57\n"
     ]
    }
   ],
   "source": [
    "feat_sel = VarianceThreshold()\n",
    "feat_sel.fit_transform(n_all_feat)\n",
    "red_feat = pd.DataFrame(feat_sel.transform(n_all_feat))\n",
    "col_lst = n_all_feat.columns[feat_sel.get_support()]\n",
    "print(col_lst)\n",
    "print(len(col_lst))"
   ]
  },
  {
   "cell_type": "code",
   "execution_count": 17,
   "id": "be7a9a7b-d5de-4865-8afa-713a817f4ee8",
   "metadata": {},
   "outputs": [
    {
     "data": {
      "text/plain": [
       "(799, 57)"
      ]
     },
     "execution_count": 17,
     "metadata": {},
     "output_type": "execute_result"
    }
   ],
   "source": [
    "red_feat.columns = col_lst\n",
    "red_feat.shape"
   ]
  },
  {
   "cell_type": "markdown",
   "id": "1c39c8cc-5b81-4d7c-85ee-a95a6f78a155",
   "metadata": {},
   "source": [
    "### Kbest with Chi2 Filter"
   ]
  },
  {
   "cell_type": "code",
   "execution_count": 18,
   "id": "bae2197a-c890-40bd-8553-0992cd706cd5",
   "metadata": {},
   "outputs": [
    {
     "name": "stdout",
     "output_type": "stream",
     "text": [
      "Index(['frame.time_delta_displayed', 'frame.len', 'frame.marked',\n",
      "       'frame.ignored', 'radiotap.channel.type.turbo',\n",
      "       'radiotap.channel.type.2ghz', 'radiotap.channel.type.5ghz',\n",
      "       'radiotap.rxflags.badplcp', 'wlan.fc.ds', 'wlan.fc.frag',\n",
      "       'wlan.fc.moredata', 'wlan.fc.protected', 'wlan.duration',\n",
      "       'wlan.ba.control.multitid', 'wlan_mgt.fixed.capabilities.privacy',\n",
      "       'wlan_mgt.fixed.capabilities.agility',\n",
      "       'wlan_mgt.fixed.capabilities.spec_man',\n",
      "       'wlan_mgt.fixed.capabilities.dsss_ofdm', 'wlan_mgt.fixed.reason_code',\n",
      "       'wlan_mgt.ds.current_channel', 'wlan_mgt.tim.dtim_count',\n",
      "       'wlan_mgt.tim.dtim_period', 'wlan_mgt.tim.bmapctl.multicast',\n",
      "       'wlan_mgt.rsn.gcs.type', 'wlan_mgt.rsn.pcs.count',\n",
      "       'wlan_mgt.rsn.akms.count', 'wlan_mgt.rsn.akms.type',\n",
      "       'wlan_mgt.rsn.capabilities.preauth', 'wlan.qos.eosp', 'wlan.qos.ack'],\n",
      "      dtype='object')\n"
     ]
    }
   ],
   "source": [
    "kbest = SelectKBest(score_func = chi2, k =30)\n",
    "kbest_out = kbest.fit_transform(red_feat, y_train)\n",
    "kbest_out = red_feat.columns[kbest.get_support()]\n",
    "print(kbest_out)"
   ]
  },
  {
   "cell_type": "code",
   "execution_count": 19,
   "id": "ef025ac8-b5d3-4169-83d0-d3efff01a143",
   "metadata": {},
   "outputs": [
    {
     "data": {
      "text/plain": [
       "(799, 30)"
      ]
     },
     "execution_count": 19,
     "metadata": {},
     "output_type": "execute_result"
    }
   ],
   "source": [
    "red_feat2 = pd.DataFrame(kbest.transform(red_feat))\n",
    "red_feat2.columns = kbest_out\n",
    "red_feat2.shape"
   ]
  },
  {
   "cell_type": "markdown",
   "id": "1ee72a1b-1b7d-4367-84e9-2af2e51d59c8",
   "metadata": {},
   "source": [
    "### Kbest with MI Filter"
   ]
  },
  {
   "cell_type": "code",
   "execution_count": 20,
   "id": "e2425d4e-e1fd-4948-81d8-c8f2f700995e",
   "metadata": {},
   "outputs": [
    {
     "name": "stdout",
     "output_type": "stream",
     "text": [
      "Index(['frame.marked', 'frame.ignored', 'wlan.fc.ds', 'wlan.duration',\n",
      "       'wlan.ba.control.multitid', 'wlan_mgt.fixed.capabilities.privacy',\n",
      "       'wlan_mgt.fixed.capabilities.agility',\n",
      "       'wlan_mgt.fixed.capabilities.dsss_ofdm', 'wlan_mgt.fixed.reason_code',\n",
      "       'wlan_mgt.ds.current_channel', 'wlan_mgt.tim.dtim_count',\n",
      "       'wlan_mgt.tim.bmapctl.multicast', 'wlan_mgt.rsn.gcs.type',\n",
      "       'wlan_mgt.rsn.akms.type', 'wlan.qos.eosp'],\n",
      "      dtype='object')\n"
     ]
    }
   ],
   "source": [
    "kbest_mi = SelectKBest(score_func = mutual_info_classif, k = 15)\n",
    "kbest_mi_out = kbest_mi.fit_transform(red_feat2 , y_train)\n",
    "kbest_mi_out = red_feat2.columns[kbest_mi.get_support()]\n",
    "print(kbest_mi_out)"
   ]
  },
  {
   "cell_type": "code",
   "execution_count": 21,
   "id": "31c650f4-18cf-4213-995b-71b6cf854150",
   "metadata": {},
   "outputs": [
    {
     "data": {
      "text/plain": [
       "(799, 15)"
      ]
     },
     "execution_count": 21,
     "metadata": {},
     "output_type": "execute_result"
    }
   ],
   "source": [
    "X_train_final = pd.DataFrame(kbest_mi.transform(red_feat2))\n",
    "X_train_final.columns = kbest_mi_out\n",
    "X_train_final.shape"
   ]
  },
  {
   "cell_type": "code",
   "execution_count": 22,
   "id": "66d337f5-2024-43e7-a9fb-a83502274629",
   "metadata": {},
   "outputs": [
    {
     "name": "stdout",
     "output_type": "stream",
     "text": [
      "(799, 9)\n"
     ]
    }
   ],
   "source": [
    "def pairwise_corr(df, threshold = 0.9):\n",
    "    \n",
    "    matrix = df.corr()\n",
    "    mask = np.triu(np.ones_like(matrix,dtype = bool))\n",
    "    reduced_matrix = matrix.mask(mask)\n",
    "    col_to_drop = [col for col in reduced_matrix.columns if any (reduced_matrix[col] > threshold)]\n",
    "    return col_to_drop\n",
    "\n",
    "corr_columns = pairwise_corr(X_train_final, 0.95)\n",
    "X_train_corr = X_train_final.drop(corr_columns, axis = 1)\n",
    "print(X_train_corr.shape)"
   ]
  },
  {
   "cell_type": "code",
   "execution_count": 23,
   "id": "15d5d0f5-838a-40e8-9216-815eaabc833c",
   "metadata": {},
   "outputs": [
    {
     "name": "stdout",
     "output_type": "stream",
     "text": [
      "['frame.marked', 'wlan_mgt.fixed.capabilities.privacy', 'wlan_mgt.fixed.capabilities.dsss_ofdm', 'wlan_mgt.fixed.reason_code', 'wlan_mgt.ds.current_channel', 'wlan_mgt.rsn.gcs.type']\n"
     ]
    }
   ],
   "source": [
    "#print columns\n",
    "print(corr_columns)"
   ]
  },
  {
   "cell_type": "markdown",
   "id": "d20d20a4",
   "metadata": {},
   "source": [
    "# Selecting Algorithms"
   ]
  },
  {
   "cell_type": "markdown",
   "id": "698f80cf",
   "metadata": {},
   "source": [
    "### Exploration of Possible Algorithms"
   ]
  },
  {
   "cell_type": "code",
   "execution_count": 24,
   "id": "b4d44245",
   "metadata": {},
   "outputs": [
    {
     "name": "stdout",
     "output_type": "stream",
     "text": [
      "LR: 0.988734 (0.008752)\n",
      "LDA: 0.978734 (0.032133)\n",
      "NB: 0.817326 (0.047006)\n",
      "KNN: 0.988734 (0.008752)\n",
      "ET: 0.996250 (0.005728)\n",
      "LSVC: 0.988734 (0.008752)\n"
     ]
    }
   ],
   "source": [
    "#Comparing algorithms\n",
    "array = X_train_final.values\n",
    "X = array[ : , 0:15]\n",
    "Y = y_train\n",
    "\n",
    "#Model preparation\n",
    "models = []\n",
    "models.append(('LR', LogisticRegression(solver='liblinear')))\n",
    "models.append(('LDA', LinearDiscriminantAnalysis()))\n",
    "models.append(('NB', GaussianNB()))\n",
    "models.append(('KNN', KNeighborsClassifier()))\n",
    "models.append(('ET', ExtraTreesClassifier(random_state = 3)))\n",
    "models.append(('LSVC', LinearSVC(random_state = 3)))\n",
    "#Evaluating each model \n",
    "results = []\n",
    "names = []\n",
    "scoring = 'accuracy'\n",
    "for name, model in models:\n",
    "  kfold = KFold(n_splits=10, random_state=3,shuffle=True)\n",
    "  cv_results = cross_val_score(model, X, Y, cv=kfold, scoring=scoring)\n",
    "  results.append(cv_results)\n",
    "  names.append(name)\n",
    "  msg = \"%s: %f (%f)\" % (name, cv_results.mean(), cv_results.std())\n",
    "  print(msg)"
   ]
  },
  {
   "cell_type": "code",
   "execution_count": 25,
   "id": "8a0609a9",
   "metadata": {},
   "outputs": [
    {
     "data": {
      "image/png": "[encoded data removed]",
      "text/plain": [
       "<Figure size 700x400 with 1 Axes>"
      ]
     },
     "metadata": {},
     "output_type": "display_data"
    },
    {
     "data": {
      "image/png": "[encoded data removed]",
      "text/plain": [
       "<Figure size 700x400 with 1 Axes>"
      ]
     },
     "metadata": {},
     "output_type": "display_data"
    }
   ],
   "source": [
    "# Plotting cv_results.mean()\n",
    "pyplot.figure(figsize=(7, 4))\n",
    "pyplot.plot(names, [cv_results.mean() for cv_results in results], marker='o', linestyle='-', color='b', label='Mean Accuracy')\n",
    "pyplot.title('Accuracy of Different Models')\n",
    "pyplot.xlabel('Models')\n",
    "pyplot.ylabel('Accuracy')\n",
    "pyplot.xticks(rotation=45)\n",
    "pyplot.legend()\n",
    "pyplot.tight_layout()\n",
    "pyplot.show()\n",
    "\n",
    "# Plotting cv_results.std()\n",
    "pyplot.figure(figsize=(7, 4))\n",
    "pyplot.plot(names, [cv_results.std() for cv_results in results], marker='o', linestyle='-', color='r', label='Standard Deviation')\n",
    "pyplot.title('Standard Deviation of Different Models')\n",
    "pyplot.xlabel('Models')\n",
    "pyplot.ylabel('Standard Deviation')\n",
    "pyplot.xticks(rotation=45)\n",
    "pyplot.legend()\n",
    "pyplot.tight_layout()\n",
    "pyplot.show()"
   ]
  },
  {
   "cell_type": "markdown",
   "id": "806a0569",
   "metadata": {},
   "source": [
    "**Notes on results:**\n",
    "\n",
    "LR - performs well and trains quickly, assuming linearity  ***FURTHER TUNING DONE BELOW***\n",
    "\n",
    "LDA/QDA - trains quickly due to dimensionality reduction, performs moderately  ***FURTHER TUNING DONE BELOW***\n",
    "\n",
    "KNN - performs well but takes more time to run  ***FURTHER TUNING DONE BELOW***\n",
    "\n",
    "Extra trees - performs too well, likely overfitting, wont peform well on test data. \n",
    "\n",
    "NB - simple and performs well, good candidate algorithm  ***FURTHER TUNING DONE BELOW***\n",
    "\n",
    "Linear SVC - perfoms well since it uses gradient descent and a linear function to reduce the training time, quicker than ET ***FURTHER TUNING DONE BELOW***"
   ]
  },
  {
   "cell_type": "markdown",
   "id": "a547359f",
   "metadata": {},
   "source": [
    "## Hyperparameter Tuning"
   ]
  },
  {
   "cell_type": "markdown",
   "id": "ab716553",
   "metadata": {},
   "source": [
    "### Logistic Regression Tuning"
   ]
  },
  {
   "cell_type": "code",
   "execution_count": 26,
   "id": "eda6b83b",
   "metadata": {},
   "outputs": [
    {
     "data": {
      "text/html": [
       "<style>#sk-container-id-1 {color: black;background-color: white;}#sk-container-id-1 pre{padding: 0;}#sk-container-id-1 div.sk-toggleable {background-color: white;}#sk-container-id-1 label.sk-toggleable__label {cursor: pointer;display: block;width: 100%;margin-bottom: 0;padding: 0.3em;box-sizing: border-box;text-align: center;}#sk-container-id-1 label.sk-toggleable__label-arrow:before {content: \"▸\";float: left;margin-right: 0.25em;color: #696969;}#sk-container-id-1 label.sk-toggleable__label-arrow:hover:before {color: black;}#sk-container-id-1 div.sk-estimator:hover label.sk-toggleable__label-arrow:before {color: black;}#sk-container-id-1 div.sk-toggleable__content {max-height: 0;max-width: 0;overflow: hidden;text-align: left;background-color: #f0f8ff;}#sk-container-id-1 div.sk-toggleable__content pre {margin: 0.2em;color: black;border-radius: 0.25em;background-color: #f0f8ff;}#sk-container-id-1 input.sk-toggleable__control:checked~div.sk-toggleable__content {max-height: 200px;max-width: 100%;overflow: auto;}#sk-container-id-1 input.sk-toggleable__control:checked~label.sk-toggleable__label-arrow:before {content: \"▾\";}#sk-container-id-1 div.sk-estimator input.sk-toggleable__control:checked~label.sk-toggleable__label {background-color: #d4ebff;}#sk-container-id-1 div.sk-label input.sk-toggleable__control:checked~label.sk-toggleable__label {background-color: #d4ebff;}#sk-container-id-1 input.sk-hidden--visually {border: 0;clip: rect(1px 1px 1px 1px);clip: rect(1px, 1px, 1px, 1px);height: 1px;margin: -1px;overflow: hidden;padding: 0;position: absolute;width: 1px;}#sk-container-id-1 div.sk-estimator {font-family: monospace;background-color: #f0f8ff;border: 1px dotted black;border-radius: 0.25em;box-sizing: border-box;margin-bottom: 0.5em;}#sk-container-id-1 div.sk-estimator:hover {background-color: #d4ebff;}#sk-container-id-1 div.sk-parallel-item::after {content: \"\";width: 100%;border-bottom: 1px solid gray;flex-grow: 1;}#sk-container-id-1 div.sk-label:hover label.sk-toggleable__label {background-color: #d4ebff;}#sk-container-id-1 div.sk-serial::before {content: \"\";position: absolute;border-left: 1px solid gray;box-sizing: border-box;top: 0;bottom: 0;left: 50%;z-index: 0;}#sk-container-id-1 div.sk-serial {display: flex;flex-direction: column;align-items: center;background-color: white;padding-right: 0.2em;padding-left: 0.2em;position: relative;}#sk-container-id-1 div.sk-item {position: relative;z-index: 1;}#sk-container-id-1 div.sk-parallel {display: flex;align-items: stretch;justify-content: center;background-color: white;position: relative;}#sk-container-id-1 div.sk-item::before, #sk-container-id-1 div.sk-parallel-item::before {content: \"\";position: absolute;border-left: 1px solid gray;box-sizing: border-box;top: 0;bottom: 0;left: 50%;z-index: -1;}#sk-container-id-1 div.sk-parallel-item {display: flex;flex-direction: column;z-index: 1;position: relative;background-color: white;}#sk-container-id-1 div.sk-parallel-item:first-child::after {align-self: flex-end;width: 50%;}#sk-container-id-1 div.sk-parallel-item:last-child::after {align-self: flex-start;width: 50%;}#sk-container-id-1 div.sk-parallel-item:only-child::after {width: 0;}#sk-container-id-1 div.sk-dashed-wrapped {border: 1px dashed gray;margin: 0 0.4em 0.5em 0.4em;box-sizing: border-box;padding-bottom: 0.4em;background-color: white;}#sk-container-id-1 div.sk-label label {font-family: monospace;font-weight: bold;display: inline-block;line-height: 1.2em;}#sk-container-id-1 div.sk-label-container {text-align: center;}#sk-container-id-1 div.sk-container {/* jupyter's `normalize.less` sets `[hidden] { display: none; }` but bootstrap.min.css set `[hidden] { display: none !important; }` so we also need the `!important` here to be able to override the default hidden behavior on the sphinx rendered scikit-learn.org. See: https://github.com/scikit-learn/scikit-learn/issues/21755 */display: inline-block !important;position: relative;}#sk-container-id-1 div.sk-text-repr-fallback {display: none;}</style><div id=\"sk-container-id-1\" class=\"sk-top-container\"><div class=\"sk-text-repr-fallback\"><pre>RandomizedSearchCV(cv=5, estimator=LogisticRegression(),\n",
       "                   param_distributions=[{&#x27;C&#x27;: [0.01, 0.05, 0.08, 0.1, 0.3, 0.5,\n",
       "                                               0.8],\n",
       "                                         &#x27;solver&#x27;: [&#x27;lbfgs&#x27;, &#x27;liblinear&#x27;, &#x27;sag&#x27;,\n",
       "                                                    &#x27;saga&#x27;, &#x27;newton-cg&#x27;]},\n",
       "                                        {&#x27;C&#x27;: [0.01, 0.05, 0.08, 0.1, 0.3, 0.5,\n",
       "                                               0.8],\n",
       "                                         &#x27;penalty&#x27;: [&#x27;l1&#x27;],\n",
       "                                         &#x27;solver&#x27;: [&#x27;liblinear&#x27;, &#x27;saga&#x27;]},\n",
       "                                        {&#x27;C&#x27;: [0.01, 0.05, 0.08, 0.1, 0.3, 0.5,\n",
       "                                               0.8],\n",
       "                                         &#x27;penalty&#x27;: [&#x27;none&#x27;],\n",
       "                                         &#x27;solver&#x27;: [&#x27;lbfgs&#x27;, &#x27;sag&#x27;, &#x27;saga&#x27;,\n",
       "                                                    &#x27;newton-cg&#x27;]}],\n",
       "                   random_state=2)</pre><b>In a Jupyter environment, please rerun this cell to show the HTML representation or trust the notebook. <br />On GitHub, the HTML representation is unable to render, please try loading this page with nbviewer.org.</b></div><div class=\"sk-container\" hidden><div class=\"sk-item sk-dashed-wrapped\"><div class=\"sk-label-container\"><div class=\"sk-label sk-toggleable\"><input class=\"sk-toggleable__control sk-hidden--visually\" id=\"sk-estimator-id-1\" type=\"checkbox\" ><label for=\"sk-estimator-id-1\" class=\"sk-toggleable__label sk-toggleable__label-arrow\">RandomizedSearchCV</label><div class=\"sk-toggleable__content\"><pre>RandomizedSearchCV(cv=5, estimator=LogisticRegression(),\n",
       "                   param_distributions=[{&#x27;C&#x27;: [0.01, 0.05, 0.08, 0.1, 0.3, 0.5,\n",
       "                                               0.8],\n",
       "                                         &#x27;solver&#x27;: [&#x27;lbfgs&#x27;, &#x27;liblinear&#x27;, &#x27;sag&#x27;,\n",
       "                                                    &#x27;saga&#x27;, &#x27;newton-cg&#x27;]},\n",
       "                                        {&#x27;C&#x27;: [0.01, 0.05, 0.08, 0.1, 0.3, 0.5,\n",
       "                                               0.8],\n",
       "                                         &#x27;penalty&#x27;: [&#x27;l1&#x27;],\n",
       "                                         &#x27;solver&#x27;: [&#x27;liblinear&#x27;, &#x27;saga&#x27;]},\n",
       "                                        {&#x27;C&#x27;: [0.01, 0.05, 0.08, 0.1, 0.3, 0.5,\n",
       "                                               0.8],\n",
       "                                         &#x27;penalty&#x27;: [&#x27;none&#x27;],\n",
       "                                         &#x27;solver&#x27;: [&#x27;lbfgs&#x27;, &#x27;sag&#x27;, &#x27;saga&#x27;,\n",
       "                                                    &#x27;newton-cg&#x27;]}],\n",
       "                   random_state=2)</pre></div></div></div><div class=\"sk-parallel\"><div class=\"sk-parallel-item\"><div class=\"sk-item\"><div class=\"sk-label-container\"><div class=\"sk-label sk-toggleable\"><input class=\"sk-toggleable__control sk-hidden--visually\" id=\"sk-estimator-id-2\" type=\"checkbox\" ><label for=\"sk-estimator-id-2\" class=\"sk-toggleable__label sk-toggleable__label-arrow\">estimator: LogisticRegression</label><div class=\"sk-toggleable__content\"><pre>LogisticRegression()</pre></div></div></div><div class=\"sk-serial\"><div class=\"sk-item\"><div class=\"sk-estimator sk-toggleable\"><input class=\"sk-toggleable__control sk-hidden--visually\" id=\"sk-estimator-id-3\" type=\"checkbox\" ><label for=\"sk-estimator-id-3\" class=\"sk-toggleable__label sk-toggleable__label-arrow\">LogisticRegression</label><div class=\"sk-toggleable__content\"><pre>LogisticRegression()</pre></div></div></div></div></div></div></div></div></div></div>"
      ],
      "text/plain": [
       "RandomizedSearchCV(cv=5, estimator=LogisticRegression(),\n",
       "                   param_distributions=[{'C': [0.01, 0.05, 0.08, 0.1, 0.3, 0.5,\n",
       "                                               0.8],\n",
       "                                         'solver': ['lbfgs', 'liblinear', 'sag',\n",
       "                                                    'saga', 'newton-cg']},\n",
       "                                        {'C': [0.01, 0.05, 0.08, 0.1, 0.3, 0.5,\n",
       "                                               0.8],\n",
       "                                         'penalty': ['l1'],\n",
       "                                         'solver': ['liblinear', 'saga']},\n",
       "                                        {'C': [0.01, 0.05, 0.08, 0.1, 0.3, 0.5,\n",
       "                                               0.8],\n",
       "                                         'penalty': ['none'],\n",
       "                                         'solver': ['lbfgs', 'sag', 'saga',\n",
       "                                                    'newton-cg']}],\n",
       "                   random_state=2)"
      ]
     },
     "execution_count": 26,
     "metadata": {},
     "output_type": "execute_result"
    }
   ],
   "source": [
    "# Parameters available for LR are: penalty, C, solver\n",
    "param_grid_lr = [\n",
    "    {'solver':['lbfgs','liblinear','sag','saga','newton-cg'],'C': [0.01,0.05,0.08,0.1,0.3,0.5,0.8]},\n",
    "    {'penalty': ['l1'],'solver':['liblinear','saga'],'C': [0.01,0.05,0.08,0.1,0.3,0.5,0.8]},\n",
    "    {'penalty': ['none'],'solver':['lbfgs','sag','saga','newton-cg'],'C': [0.01,0.05,0.08,0.1,0.3,0.5,0.8]},\n",
    "]\n",
    "\n",
    "lr_model = LogisticRegression()\n",
    "lr_search = RandomizedSearchCV(lr_model, param_grid_lr ,random_state = 2, cv = 5)\n",
    "lr_search.fit(X_train_final, y_train)"
   ]
  },
  {
   "cell_type": "markdown",
   "id": "53114528",
   "metadata": {},
   "source": [
    "#### Best results for logistic regression:"
   ]
  },
  {
   "cell_type": "code",
   "execution_count": 27,
   "id": "21bb0274",
   "metadata": {},
   "outputs": [
    {
     "data": {
      "text/plain": [
       "{'solver': 'newton-cg', 'C': 0.5}"
      ]
     },
     "execution_count": 27,
     "metadata": {},
     "output_type": "execute_result"
    }
   ],
   "source": [
    "lr_search.best_params_"
   ]
  },
  {
   "cell_type": "code",
   "execution_count": 28,
   "id": "c71c3cdc",
   "metadata": {},
   "outputs": [
    {
     "data": {
      "text/html": [
       "<style>#sk-container-id-2 {color: black;background-color: white;}#sk-container-id-2 pre{padding: 0;}#sk-container-id-2 div.sk-toggleable {background-color: white;}#sk-container-id-2 label.sk-toggleable__label {cursor: pointer;display: block;width: 100%;margin-bottom: 0;padding: 0.3em;box-sizing: border-box;text-align: center;}#sk-container-id-2 label.sk-toggleable__label-arrow:before {content: \"▸\";float: left;margin-right: 0.25em;color: #696969;}#sk-container-id-2 label.sk-toggleable__label-arrow:hover:before {color: black;}#sk-container-id-2 div.sk-estimator:hover label.sk-toggleable__label-arrow:before {color: black;}#sk-container-id-2 div.sk-toggleable__content {max-height: 0;max-width: 0;overflow: hidden;text-align: left;background-color: #f0f8ff;}#sk-container-id-2 div.sk-toggleable__content pre {margin: 0.2em;color: black;border-radius: 0.25em;background-color: #f0f8ff;}#sk-container-id-2 input.sk-toggleable__control:checked~div.sk-toggleable__content {max-height: 200px;max-width: 100%;overflow: auto;}#sk-container-id-2 input.sk-toggleable__control:checked~label.sk-toggleable__label-arrow:before {content: \"▾\";}#sk-container-id-2 div.sk-estimator input.sk-toggleable__control:checked~label.sk-toggleable__label {background-color: #d4ebff;}#sk-container-id-2 div.sk-label input.sk-toggleable__control:checked~label.sk-toggleable__label {background-color: #d4ebff;}#sk-container-id-2 input.sk-hidden--visually {border: 0;clip: rect(1px 1px 1px 1px);clip: rect(1px, 1px, 1px, 1px);height: 1px;margin: -1px;overflow: hidden;padding: 0;position: absolute;width: 1px;}#sk-container-id-2 div.sk-estimator {font-family: monospace;background-color: #f0f8ff;border: 1px dotted black;border-radius: 0.25em;box-sizing: border-box;margin-bottom: 0.5em;}#sk-container-id-2 div.sk-estimator:hover {background-color: #d4ebff;}#sk-container-id-2 div.sk-parallel-item::after {content: \"\";width: 100%;border-bottom: 1px solid gray;flex-grow: 1;}#sk-container-id-2 div.sk-label:hover label.sk-toggleable__label {background-color: #d4ebff;}#sk-container-id-2 div.sk-serial::before {content: \"\";position: absolute;border-left: 1px solid gray;box-sizing: border-box;top: 0;bottom: 0;left: 50%;z-index: 0;}#sk-container-id-2 div.sk-serial {display: flex;flex-direction: column;align-items: center;background-color: white;padding-right: 0.2em;padding-left: 0.2em;position: relative;}#sk-container-id-2 div.sk-item {position: relative;z-index: 1;}#sk-container-id-2 div.sk-parallel {display: flex;align-items: stretch;justify-content: center;background-color: white;position: relative;}#sk-container-id-2 div.sk-item::before, #sk-container-id-2 div.sk-parallel-item::before {content: \"\";position: absolute;border-left: 1px solid gray;box-sizing: border-box;top: 0;bottom: 0;left: 50%;z-index: -1;}#sk-container-id-2 div.sk-parallel-item {display: flex;flex-direction: column;z-index: 1;position: relative;background-color: white;}#sk-container-id-2 div.sk-parallel-item:first-child::after {align-self: flex-end;width: 50%;}#sk-container-id-2 div.sk-parallel-item:last-child::after {align-self: flex-start;width: 50%;}#sk-container-id-2 div.sk-parallel-item:only-child::after {width: 0;}#sk-container-id-2 div.sk-dashed-wrapped {border: 1px dashed gray;margin: 0 0.4em 0.5em 0.4em;box-sizing: border-box;padding-bottom: 0.4em;background-color: white;}#sk-container-id-2 div.sk-label label {font-family: monospace;font-weight: bold;display: inline-block;line-height: 1.2em;}#sk-container-id-2 div.sk-label-container {text-align: center;}#sk-container-id-2 div.sk-container {/* jupyter's `normalize.less` sets `[hidden] { display: none; }` but bootstrap.min.css set `[hidden] { display: none !important; }` so we also need the `!important` here to be able to override the default hidden behavior on the sphinx rendered scikit-learn.org. See: https://github.com/scikit-learn/scikit-learn/issues/21755 */display: inline-block !important;position: relative;}#sk-container-id-2 div.sk-text-repr-fallback {display: none;}</style><div id=\"sk-container-id-2\" class=\"sk-top-container\"><div class=\"sk-text-repr-fallback\"><pre>LogisticRegression(C=0.5, solver=&#x27;newton-cg&#x27;)</pre><b>In a Jupyter environment, please rerun this cell to show the HTML representation or trust the notebook. <br />On GitHub, the HTML representation is unable to render, please try loading this page with nbviewer.org.</b></div><div class=\"sk-container\" hidden><div class=\"sk-item\"><div class=\"sk-estimator sk-toggleable\"><input class=\"sk-toggleable__control sk-hidden--visually\" id=\"sk-estimator-id-4\" type=\"checkbox\" checked><label for=\"sk-estimator-id-4\" class=\"sk-toggleable__label sk-toggleable__label-arrow\">LogisticRegression</label><div class=\"sk-toggleable__content\"><pre>LogisticRegression(C=0.5, solver=&#x27;newton-cg&#x27;)</pre></div></div></div></div></div>"
      ],
      "text/plain": [
       "LogisticRegression(C=0.5, solver='newton-cg')"
      ]
     },
     "execution_count": 28,
     "metadata": {},
     "output_type": "execute_result"
    }
   ],
   "source": [
    "lr_search.best_estimator_"
   ]
  },
  {
   "cell_type": "code",
   "execution_count": 29,
   "id": "097344aa",
   "metadata": {},
   "outputs": [
    {
     "data": {
      "text/plain": [
       "0.98874213836478"
      ]
     },
     "execution_count": 29,
     "metadata": {},
     "output_type": "execute_result"
    }
   ],
   "source": [
    "lr_search.best_score_"
   ]
  },
  {
   "cell_type": "markdown",
   "id": "ede46ec9",
   "metadata": {},
   "source": [
    "The above score is an improvement on the initial exploration of models above"
   ]
  },
  {
   "cell_type": "markdown",
   "id": "2ac613b1",
   "metadata": {},
   "source": [
    "### NB Tuning"
   ]
  },
  {
   "cell_type": "code",
   "execution_count": 30,
   "id": "5c7d77fd",
   "metadata": {},
   "outputs": [
    {
     "data": {
      "text/html": [
       "<style>#sk-container-id-3 {color: black;background-color: white;}#sk-container-id-3 pre{padding: 0;}#sk-container-id-3 div.sk-toggleable {background-color: white;}#sk-container-id-3 label.sk-toggleable__label {cursor: pointer;display: block;width: 100%;margin-bottom: 0;padding: 0.3em;box-sizing: border-box;text-align: center;}#sk-container-id-3 label.sk-toggleable__label-arrow:before {content: \"▸\";float: left;margin-right: 0.25em;color: #696969;}#sk-container-id-3 label.sk-toggleable__label-arrow:hover:before {color: black;}#sk-container-id-3 div.sk-estimator:hover label.sk-toggleable__label-arrow:before {color: black;}#sk-container-id-3 div.sk-toggleable__content {max-height: 0;max-width: 0;overflow: hidden;text-align: left;background-color: #f0f8ff;}#sk-container-id-3 div.sk-toggleable__content pre {margin: 0.2em;color: black;border-radius: 0.25em;background-color: #f0f8ff;}#sk-container-id-3 input.sk-toggleable__control:checked~div.sk-toggleable__content {max-height: 200px;max-width: 100%;overflow: auto;}#sk-container-id-3 input.sk-toggleable__control:checked~label.sk-toggleable__label-arrow:before {content: \"▾\";}#sk-container-id-3 div.sk-estimator input.sk-toggleable__control:checked~label.sk-toggleable__label {background-color: #d4ebff;}#sk-container-id-3 div.sk-label input.sk-toggleable__control:checked~label.sk-toggleable__label {background-color: #d4ebff;}#sk-container-id-3 input.sk-hidden--visually {border: 0;clip: rect(1px 1px 1px 1px);clip: rect(1px, 1px, 1px, 1px);height: 1px;margin: -1px;overflow: hidden;padding: 0;position: absolute;width: 1px;}#sk-container-id-3 div.sk-estimator {font-family: monospace;background-color: #f0f8ff;border: 1px dotted black;border-radius: 0.25em;box-sizing: border-box;margin-bottom: 0.5em;}#sk-container-id-3 div.sk-estimator:hover {background-color: #d4ebff;}#sk-container-id-3 div.sk-parallel-item::after {content: \"\";width: 100%;border-bottom: 1px solid gray;flex-grow: 1;}#sk-container-id-3 div.sk-label:hover label.sk-toggleable__label {background-color: #d4ebff;}#sk-container-id-3 div.sk-serial::before {content: \"\";position: absolute;border-left: 1px solid gray;box-sizing: border-box;top: 0;bottom: 0;left: 50%;z-index: 0;}#sk-container-id-3 div.sk-serial {display: flex;flex-direction: column;align-items: center;background-color: white;padding-right: 0.2em;padding-left: 0.2em;position: relative;}#sk-container-id-3 div.sk-item {position: relative;z-index: 1;}#sk-container-id-3 div.sk-parallel {display: flex;align-items: stretch;justify-content: center;background-color: white;position: relative;}#sk-container-id-3 div.sk-item::before, #sk-container-id-3 div.sk-parallel-item::before {content: \"\";position: absolute;border-left: 1px solid gray;box-sizing: border-box;top: 0;bottom: 0;left: 50%;z-index: -1;}#sk-container-id-3 div.sk-parallel-item {display: flex;flex-direction: column;z-index: 1;position: relative;background-color: white;}#sk-container-id-3 div.sk-parallel-item:first-child::after {align-self: flex-end;width: 50%;}#sk-container-id-3 div.sk-parallel-item:last-child::after {align-self: flex-start;width: 50%;}#sk-container-id-3 div.sk-parallel-item:only-child::after {width: 0;}#sk-container-id-3 div.sk-dashed-wrapped {border: 1px dashed gray;margin: 0 0.4em 0.5em 0.4em;box-sizing: border-box;padding-bottom: 0.4em;background-color: white;}#sk-container-id-3 div.sk-label label {font-family: monospace;font-weight: bold;display: inline-block;line-height: 1.2em;}#sk-container-id-3 div.sk-label-container {text-align: center;}#sk-container-id-3 div.sk-container {/* jupyter's `normalize.less` sets `[hidden] { display: none; }` but bootstrap.min.css set `[hidden] { display: none !important; }` so we also need the `!important` here to be able to override the default hidden behavior on the sphinx rendered scikit-learn.org. See: https://github.com/scikit-learn/scikit-learn/issues/21755 */display: inline-block !important;position: relative;}#sk-container-id-3 div.sk-text-repr-fallback {display: none;}</style><div id=\"sk-container-id-3\" class=\"sk-top-container\"><div class=\"sk-text-repr-fallback\"><pre>RandomizedSearchCV(cv=5, estimator=GaussianNB(),\n",
       "                   param_distributions=[{&#x27;var_smoothing&#x27;: [1e-10, 1e-09, 1e-07,\n",
       "                                                           1e-05]}],\n",
       "                   random_state=3)</pre><b>In a Jupyter environment, please rerun this cell to show the HTML representation or trust the notebook. <br />On GitHub, the HTML representation is unable to render, please try loading this page with nbviewer.org.</b></div><div class=\"sk-container\" hidden><div class=\"sk-item sk-dashed-wrapped\"><div class=\"sk-label-container\"><div class=\"sk-label sk-toggleable\"><input class=\"sk-toggleable__control sk-hidden--visually\" id=\"sk-estimator-id-5\" type=\"checkbox\" ><label for=\"sk-estimator-id-5\" class=\"sk-toggleable__label sk-toggleable__label-arrow\">RandomizedSearchCV</label><div class=\"sk-toggleable__content\"><pre>RandomizedSearchCV(cv=5, estimator=GaussianNB(),\n",
       "                   param_distributions=[{&#x27;var_smoothing&#x27;: [1e-10, 1e-09, 1e-07,\n",
       "                                                           1e-05]}],\n",
       "                   random_state=3)</pre></div></div></div><div class=\"sk-parallel\"><div class=\"sk-parallel-item\"><div class=\"sk-item\"><div class=\"sk-label-container\"><div class=\"sk-label sk-toggleable\"><input class=\"sk-toggleable__control sk-hidden--visually\" id=\"sk-estimator-id-6\" type=\"checkbox\" ><label for=\"sk-estimator-id-6\" class=\"sk-toggleable__label sk-toggleable__label-arrow\">estimator: GaussianNB</label><div class=\"sk-toggleable__content\"><pre>GaussianNB()</pre></div></div></div><div class=\"sk-serial\"><div class=\"sk-item\"><div class=\"sk-estimator sk-toggleable\"><input class=\"sk-toggleable__control sk-hidden--visually\" id=\"sk-estimator-id-7\" type=\"checkbox\" ><label for=\"sk-estimator-id-7\" class=\"sk-toggleable__label sk-toggleable__label-arrow\">GaussianNB</label><div class=\"sk-toggleable__content\"><pre>GaussianNB()</pre></div></div></div></div></div></div></div></div></div></div>"
      ],
      "text/plain": [
       "RandomizedSearchCV(cv=5, estimator=GaussianNB(),\n",
       "                   param_distributions=[{'var_smoothing': [1e-10, 1e-09, 1e-07,\n",
       "                                                           1e-05]}],\n",
       "                   random_state=3)"
      ]
     },
     "execution_count": 30,
     "metadata": {},
     "output_type": "execute_result"
    }
   ],
   "source": [
    "param_grid_nb = [\n",
    "    {'var_smoothing': [1e-10,1e-9,1e-7,1e-5]},\n",
    "    ]\n",
    "\n",
    "nb_model = GaussianNB()\n",
    "\n",
    "nb_search = RandomizedSearchCV(nb_model,param_grid_nb,random_state =3, cv=5)\n",
    "nb_search.fit(X_train_final, y_train)"
   ]
  },
  {
   "cell_type": "code",
   "execution_count": 31,
   "id": "cbc984fc",
   "metadata": {},
   "outputs": [
    {
     "data": {
      "text/plain": [
       "{'var_smoothing': 1e-05}"
      ]
     },
     "execution_count": 31,
     "metadata": {},
     "output_type": "execute_result"
    }
   ],
   "source": [
    "nb_search.best_params_"
   ]
  },
  {
   "cell_type": "code",
   "execution_count": 32,
   "id": "8c3289fd",
   "metadata": {},
   "outputs": [
    {
     "data": {
      "text/html": [
       "<style>#sk-container-id-4 {color: black;background-color: white;}#sk-container-id-4 pre{padding: 0;}#sk-container-id-4 div.sk-toggleable {background-color: white;}#sk-container-id-4 label.sk-toggleable__label {cursor: pointer;display: block;width: 100%;margin-bottom: 0;padding: 0.3em;box-sizing: border-box;text-align: center;}#sk-container-id-4 label.sk-toggleable__label-arrow:before {content: \"▸\";float: left;margin-right: 0.25em;color: #696969;}#sk-container-id-4 label.sk-toggleable__label-arrow:hover:before {color: black;}#sk-container-id-4 div.sk-estimator:hover label.sk-toggleable__label-arrow:before {color: black;}#sk-container-id-4 div.sk-toggleable__content {max-height: 0;max-width: 0;overflow: hidden;text-align: left;background-color: #f0f8ff;}#sk-container-id-4 div.sk-toggleable__content pre {margin: 0.2em;color: black;border-radius: 0.25em;background-color: #f0f8ff;}#sk-container-id-4 input.sk-toggleable__control:checked~div.sk-toggleable__content {max-height: 200px;max-width: 100%;overflow: auto;}#sk-container-id-4 input.sk-toggleable__control:checked~label.sk-toggleable__label-arrow:before {content: \"▾\";}#sk-container-id-4 div.sk-estimator input.sk-toggleable__control:checked~label.sk-toggleable__label {background-color: #d4ebff;}#sk-container-id-4 div.sk-label input.sk-toggleable__control:checked~label.sk-toggleable__label {background-color: #d4ebff;}#sk-container-id-4 input.sk-hidden--visually {border: 0;clip: rect(1px 1px 1px 1px);clip: rect(1px, 1px, 1px, 1px);height: 1px;margin: -1px;overflow: hidden;padding: 0;position: absolute;width: 1px;}#sk-container-id-4 div.sk-estimator {font-family: monospace;background-color: #f0f8ff;border: 1px dotted black;border-radius: 0.25em;box-sizing: border-box;margin-bottom: 0.5em;}#sk-container-id-4 div.sk-estimator:hover {background-color: #d4ebff;}#sk-container-id-4 div.sk-parallel-item::after {content: \"\";width: 100%;border-bottom: 1px solid gray;flex-grow: 1;}#sk-container-id-4 div.sk-label:hover label.sk-toggleable__label {background-color: #d4ebff;}#sk-container-id-4 div.sk-serial::before {content: \"\";position: absolute;border-left: 1px solid gray;box-sizing: border-box;top: 0;bottom: 0;left: 50%;z-index: 0;}#sk-container-id-4 div.sk-serial {display: flex;flex-direction: column;align-items: center;background-color: white;padding-right: 0.2em;padding-left: 0.2em;position: relative;}#sk-container-id-4 div.sk-item {position: relative;z-index: 1;}#sk-container-id-4 div.sk-parallel {display: flex;align-items: stretch;justify-content: center;background-color: white;position: relative;}#sk-container-id-4 div.sk-item::before, #sk-container-id-4 div.sk-parallel-item::before {content: \"\";position: absolute;border-left: 1px solid gray;box-sizing: border-box;top: 0;bottom: 0;left: 50%;z-index: -1;}#sk-container-id-4 div.sk-parallel-item {display: flex;flex-direction: column;z-index: 1;position: relative;background-color: white;}#sk-container-id-4 div.sk-parallel-item:first-child::after {align-self: flex-end;width: 50%;}#sk-container-id-4 div.sk-parallel-item:last-child::after {align-self: flex-start;width: 50%;}#sk-container-id-4 div.sk-parallel-item:only-child::after {width: 0;}#sk-container-id-4 div.sk-dashed-wrapped {border: 1px dashed gray;margin: 0 0.4em 0.5em 0.4em;box-sizing: border-box;padding-bottom: 0.4em;background-color: white;}#sk-container-id-4 div.sk-label label {font-family: monospace;font-weight: bold;display: inline-block;line-height: 1.2em;}#sk-container-id-4 div.sk-label-container {text-align: center;}#sk-container-id-4 div.sk-container {/* jupyter's `normalize.less` sets `[hidden] { display: none; }` but bootstrap.min.css set `[hidden] { display: none !important; }` so we also need the `!important` here to be able to override the default hidden behavior on the sphinx rendered scikit-learn.org. See: https://github.com/scikit-learn/scikit-learn/issues/21755 */display: inline-block !important;position: relative;}#sk-container-id-4 div.sk-text-repr-fallback {display: none;}</style><div id=\"sk-container-id-4\" class=\"sk-top-container\"><div class=\"sk-text-repr-fallback\"><pre>GaussianNB(var_smoothing=1e-05)</pre><b>In a Jupyter environment, please rerun this cell to show the HTML representation or trust the notebook. <br />On GitHub, the HTML representation is unable to render, please try loading this page with nbviewer.org.</b></div><div class=\"sk-container\" hidden><div class=\"sk-item\"><div class=\"sk-estimator sk-toggleable\"><input class=\"sk-toggleable__control sk-hidden--visually\" id=\"sk-estimator-id-8\" type=\"checkbox\" checked><label for=\"sk-estimator-id-8\" class=\"sk-toggleable__label sk-toggleable__label-arrow\">GaussianNB</label><div class=\"sk-toggleable__content\"><pre>GaussianNB(var_smoothing=1e-05)</pre></div></div></div></div></div>"
      ],
      "text/plain": [
       "GaussianNB(var_smoothing=1e-05)"
      ]
     },
     "execution_count": 32,
     "metadata": {},
     "output_type": "execute_result"
    }
   ],
   "source": [
    "nb_search.best_estimator_"
   ]
  },
  {
   "cell_type": "code",
   "execution_count": 33,
   "id": "c8572dcb",
   "metadata": {},
   "outputs": [
    {
     "data": {
      "text/plain": [
       "0.824685534591195"
      ]
     },
     "execution_count": 33,
     "metadata": {},
     "output_type": "execute_result"
    }
   ],
   "source": [
    "nb_search.best_score_"
   ]
  },
  {
   "cell_type": "markdown",
   "id": "514efe57",
   "metadata": {},
   "source": [
    "The above score is small improvement on the untuned model"
   ]
  },
  {
   "cell_type": "markdown",
   "id": "de201463",
   "metadata": {},
   "source": [
    "### LSVC Tuning"
   ]
  },
  {
   "cell_type": "code",
   "execution_count": 34,
   "id": "814808e8",
   "metadata": {},
   "outputs": [
    {
     "data": {
      "text/html": [
       "<style>#sk-container-id-5 {color: black;background-color: white;}#sk-container-id-5 pre{padding: 0;}#sk-container-id-5 div.sk-toggleable {background-color: white;}#sk-container-id-5 label.sk-toggleable__label {cursor: pointer;display: block;width: 100%;margin-bottom: 0;padding: 0.3em;box-sizing: border-box;text-align: center;}#sk-container-id-5 label.sk-toggleable__label-arrow:before {content: \"▸\";float: left;margin-right: 0.25em;color: #696969;}#sk-container-id-5 label.sk-toggleable__label-arrow:hover:before {color: black;}#sk-container-id-5 div.sk-estimator:hover label.sk-toggleable__label-arrow:before {color: black;}#sk-container-id-5 div.sk-toggleable__content {max-height: 0;max-width: 0;overflow: hidden;text-align: left;background-color: #f0f8ff;}#sk-container-id-5 div.sk-toggleable__content pre {margin: 0.2em;color: black;border-radius: 0.25em;background-color: #f0f8ff;}#sk-container-id-5 input.sk-toggleable__control:checked~div.sk-toggleable__content {max-height: 200px;max-width: 100%;overflow: auto;}#sk-container-id-5 input.sk-toggleable__control:checked~label.sk-toggleable__label-arrow:before {content: \"▾\";}#sk-container-id-5 div.sk-estimator input.sk-toggleable__control:checked~label.sk-toggleable__label {background-color: #d4ebff;}#sk-container-id-5 div.sk-label input.sk-toggleable__control:checked~label.sk-toggleable__label {background-color: #d4ebff;}#sk-container-id-5 input.sk-hidden--visually {border: 0;clip: rect(1px 1px 1px 1px);clip: rect(1px, 1px, 1px, 1px);height: 1px;margin: -1px;overflow: hidden;padding: 0;position: absolute;width: 1px;}#sk-container-id-5 div.sk-estimator {font-family: monospace;background-color: #f0f8ff;border: 1px dotted black;border-radius: 0.25em;box-sizing: border-box;margin-bottom: 0.5em;}#sk-container-id-5 div.sk-estimator:hover {background-color: #d4ebff;}#sk-container-id-5 div.sk-parallel-item::after {content: \"\";width: 100%;border-bottom: 1px solid gray;flex-grow: 1;}#sk-container-id-5 div.sk-label:hover label.sk-toggleable__label {background-color: #d4ebff;}#sk-container-id-5 div.sk-serial::before {content: \"\";position: absolute;border-left: 1px solid gray;box-sizing: border-box;top: 0;bottom: 0;left: 50%;z-index: 0;}#sk-container-id-5 div.sk-serial {display: flex;flex-direction: column;align-items: center;background-color: white;padding-right: 0.2em;padding-left: 0.2em;position: relative;}#sk-container-id-5 div.sk-item {position: relative;z-index: 1;}#sk-container-id-5 div.sk-parallel {display: flex;align-items: stretch;justify-content: center;background-color: white;position: relative;}#sk-container-id-5 div.sk-item::before, #sk-container-id-5 div.sk-parallel-item::before {content: \"\";position: absolute;border-left: 1px solid gray;box-sizing: border-box;top: 0;bottom: 0;left: 50%;z-index: -1;}#sk-container-id-5 div.sk-parallel-item {display: flex;flex-direction: column;z-index: 1;position: relative;background-color: white;}#sk-container-id-5 div.sk-parallel-item:first-child::after {align-self: flex-end;width: 50%;}#sk-container-id-5 div.sk-parallel-item:last-child::after {align-self: flex-start;width: 50%;}#sk-container-id-5 div.sk-parallel-item:only-child::after {width: 0;}#sk-container-id-5 div.sk-dashed-wrapped {border: 1px dashed gray;margin: 0 0.4em 0.5em 0.4em;box-sizing: border-box;padding-bottom: 0.4em;background-color: white;}#sk-container-id-5 div.sk-label label {font-family: monospace;font-weight: bold;display: inline-block;line-height: 1.2em;}#sk-container-id-5 div.sk-label-container {text-align: center;}#sk-container-id-5 div.sk-container {/* jupyter's `normalize.less` sets `[hidden] { display: none; }` but bootstrap.min.css set `[hidden] { display: none !important; }` so we also need the `!important` here to be able to override the default hidden behavior on the sphinx rendered scikit-learn.org. See: https://github.com/scikit-learn/scikit-learn/issues/21755 */display: inline-block !important;position: relative;}#sk-container-id-5 div.sk-text-repr-fallback {display: none;}</style><div id=\"sk-container-id-5\" class=\"sk-top-container\"><div class=\"sk-text-repr-fallback\"><pre>RandomizedSearchCV(cv=5, estimator=LinearSVC(random_state=3),\n",
       "                   param_distributions=[{&#x27;C&#x27;: [0.1, 0.3, 0.5, 0.8, 1.0, 1.2,\n",
       "                                               1.5, 2.0],\n",
       "                                         &#x27;loss&#x27;: [&#x27;sqaured_hinge&#x27;, &#x27;hinge&#x27;],\n",
       "                                         &#x27;penalty&#x27;: [&#x27;l1&#x27;, &#x27;l2&#x27;]}],\n",
       "                   random_state=3)</pre><b>In a Jupyter environment, please rerun this cell to show the HTML representation or trust the notebook. <br />On GitHub, the HTML representation is unable to render, please try loading this page with nbviewer.org.</b></div><div class=\"sk-container\" hidden><div class=\"sk-item sk-dashed-wrapped\"><div class=\"sk-label-container\"><div class=\"sk-label sk-toggleable\"><input class=\"sk-toggleable__control sk-hidden--visually\" id=\"sk-estimator-id-9\" type=\"checkbox\" ><label for=\"sk-estimator-id-9\" class=\"sk-toggleable__label sk-toggleable__label-arrow\">RandomizedSearchCV</label><div class=\"sk-toggleable__content\"><pre>RandomizedSearchCV(cv=5, estimator=LinearSVC(random_state=3),\n",
       "                   param_distributions=[{&#x27;C&#x27;: [0.1, 0.3, 0.5, 0.8, 1.0, 1.2,\n",
       "                                               1.5, 2.0],\n",
       "                                         &#x27;loss&#x27;: [&#x27;sqaured_hinge&#x27;, &#x27;hinge&#x27;],\n",
       "                                         &#x27;penalty&#x27;: [&#x27;l1&#x27;, &#x27;l2&#x27;]}],\n",
       "                   random_state=3)</pre></div></div></div><div class=\"sk-parallel\"><div class=\"sk-parallel-item\"><div class=\"sk-item\"><div class=\"sk-label-container\"><div class=\"sk-label sk-toggleable\"><input class=\"sk-toggleable__control sk-hidden--visually\" id=\"sk-estimator-id-10\" type=\"checkbox\" ><label for=\"sk-estimator-id-10\" class=\"sk-toggleable__label sk-toggleable__label-arrow\">estimator: LinearSVC</label><div class=\"sk-toggleable__content\"><pre>LinearSVC(random_state=3)</pre></div></div></div><div class=\"sk-serial\"><div class=\"sk-item\"><div class=\"sk-estimator sk-toggleable\"><input class=\"sk-toggleable__control sk-hidden--visually\" id=\"sk-estimator-id-11\" type=\"checkbox\" ><label for=\"sk-estimator-id-11\" class=\"sk-toggleable__label sk-toggleable__label-arrow\">LinearSVC</label><div class=\"sk-toggleable__content\"><pre>LinearSVC(random_state=3)</pre></div></div></div></div></div></div></div></div></div></div>"
      ],
      "text/plain": [
       "RandomizedSearchCV(cv=5, estimator=LinearSVC(random_state=3),\n",
       "                   param_distributions=[{'C': [0.1, 0.3, 0.5, 0.8, 1.0, 1.2,\n",
       "                                               1.5, 2.0],\n",
       "                                         'loss': ['sqaured_hinge', 'hinge'],\n",
       "                                         'penalty': ['l1', 'l2']}],\n",
       "                   random_state=3)"
      ]
     },
     "execution_count": 34,
     "metadata": {},
     "output_type": "execute_result"
    }
   ],
   "source": [
    "param_grid_lsvc = [\n",
    "    {'penalty': ['l1','l2'], \n",
    "     'loss': ['sqaured_hinge','hinge'], \n",
    "     'C':[0.1,0.3,0.5,0.8,1.0,1.2,1.5,2.0]},\n",
    "    ]\n",
    "\n",
    "lsvc_model = LinearSVC(random_state = 3)\n",
    "\n",
    "lsvc_search = RandomizedSearchCV(lsvc_model,param_grid_lsvc,random_state =3, cv=5)\n",
    "lsvc_search.fit(X_train_final, y_train)"
   ]
  },
  {
   "cell_type": "code",
   "execution_count": 35,
   "id": "feccb2ad",
   "metadata": {},
   "outputs": [
    {
     "data": {
      "text/plain": [
       "{'penalty': 'l2', 'loss': 'hinge', 'C': 1.5}"
      ]
     },
     "execution_count": 35,
     "metadata": {},
     "output_type": "execute_result"
    }
   ],
   "source": [
    "lsvc_search.best_params_"
   ]
  },
  {
   "cell_type": "code",
   "execution_count": 36,
   "id": "44a75247",
   "metadata": {},
   "outputs": [
    {
     "data": {
      "text/html": [
       "<style>#sk-container-id-6 {color: black;background-color: white;}#sk-container-id-6 pre{padding: 0;}#sk-container-id-6 div.sk-toggleable {background-color: white;}#sk-container-id-6 label.sk-toggleable__label {cursor: pointer;display: block;width: 100%;margin-bottom: 0;padding: 0.3em;box-sizing: border-box;text-align: center;}#sk-container-id-6 label.sk-toggleable__label-arrow:before {content: \"▸\";float: left;margin-right: 0.25em;color: #696969;}#sk-container-id-6 label.sk-toggleable__label-arrow:hover:before {color: black;}#sk-container-id-6 div.sk-estimator:hover label.sk-toggleable__label-arrow:before {color: black;}#sk-container-id-6 div.sk-toggleable__content {max-height: 0;max-width: 0;overflow: hidden;text-align: left;background-color: #f0f8ff;}#sk-container-id-6 div.sk-toggleable__content pre {margin: 0.2em;color: black;border-radius: 0.25em;background-color: #f0f8ff;}#sk-container-id-6 input.sk-toggleable__control:checked~div.sk-toggleable__content {max-height: 200px;max-width: 100%;overflow: auto;}#sk-container-id-6 input.sk-toggleable__control:checked~label.sk-toggleable__label-arrow:before {content: \"▾\";}#sk-container-id-6 div.sk-estimator input.sk-toggleable__control:checked~label.sk-toggleable__label {background-color: #d4ebff;}#sk-container-id-6 div.sk-label input.sk-toggleable__control:checked~label.sk-toggleable__label {background-color: #d4ebff;}#sk-container-id-6 input.sk-hidden--visually {border: 0;clip: rect(1px 1px 1px 1px);clip: rect(1px, 1px, 1px, 1px);height: 1px;margin: -1px;overflow: hidden;padding: 0;position: absolute;width: 1px;}#sk-container-id-6 div.sk-estimator {font-family: monospace;background-color: #f0f8ff;border: 1px dotted black;border-radius: 0.25em;box-sizing: border-box;margin-bottom: 0.5em;}#sk-container-id-6 div.sk-estimator:hover {background-color: #d4ebff;}#sk-container-id-6 div.sk-parallel-item::after {content: \"\";width: 100%;border-bottom: 1px solid gray;flex-grow: 1;}#sk-container-id-6 div.sk-label:hover label.sk-toggleable__label {background-color: #d4ebff;}#sk-container-id-6 div.sk-serial::before {content: \"\";position: absolute;border-left: 1px solid gray;box-sizing: border-box;top: 0;bottom: 0;left: 50%;z-index: 0;}#sk-container-id-6 div.sk-serial {display: flex;flex-direction: column;align-items: center;background-color: white;padding-right: 0.2em;padding-left: 0.2em;position: relative;}#sk-container-id-6 div.sk-item {position: relative;z-index: 1;}#sk-container-id-6 div.sk-parallel {display: flex;align-items: stretch;justify-content: center;background-color: white;position: relative;}#sk-container-id-6 div.sk-item::before, #sk-container-id-6 div.sk-parallel-item::before {content: \"\";position: absolute;border-left: 1px solid gray;box-sizing: border-box;top: 0;bottom: 0;left: 50%;z-index: -1;}#sk-container-id-6 div.sk-parallel-item {display: flex;flex-direction: column;z-index: 1;position: relative;background-color: white;}#sk-container-id-6 div.sk-parallel-item:first-child::after {align-self: flex-end;width: 50%;}#sk-container-id-6 div.sk-parallel-item:last-child::after {align-self: flex-start;width: 50%;}#sk-container-id-6 div.sk-parallel-item:only-child::after {width: 0;}#sk-container-id-6 div.sk-dashed-wrapped {border: 1px dashed gray;margin: 0 0.4em 0.5em 0.4em;box-sizing: border-box;padding-bottom: 0.4em;background-color: white;}#sk-container-id-6 div.sk-label label {font-family: monospace;font-weight: bold;display: inline-block;line-height: 1.2em;}#sk-container-id-6 div.sk-label-container {text-align: center;}#sk-container-id-6 div.sk-container {/* jupyter's `normalize.less` sets `[hidden] { display: none; }` but bootstrap.min.css set `[hidden] { display: none !important; }` so we also need the `!important` here to be able to override the default hidden behavior on the sphinx rendered scikit-learn.org. See: https://github.com/scikit-learn/scikit-learn/issues/21755 */display: inline-block !important;position: relative;}#sk-container-id-6 div.sk-text-repr-fallback {display: none;}</style><div id=\"sk-container-id-6\" class=\"sk-top-container\"><div class=\"sk-text-repr-fallback\"><pre>LinearSVC(C=1.5, loss=&#x27;hinge&#x27;, random_state=3)</pre><b>In a Jupyter environment, please rerun this cell to show the HTML representation or trust the notebook. <br />On GitHub, the HTML representation is unable to render, please try loading this page with nbviewer.org.</b></div><div class=\"sk-container\" hidden><div class=\"sk-item\"><div class=\"sk-estimator sk-toggleable\"><input class=\"sk-toggleable__control sk-hidden--visually\" id=\"sk-estimator-id-12\" type=\"checkbox\" checked><label for=\"sk-estimator-id-12\" class=\"sk-toggleable__label sk-toggleable__label-arrow\">LinearSVC</label><div class=\"sk-toggleable__content\"><pre>LinearSVC(C=1.5, loss=&#x27;hinge&#x27;, random_state=3)</pre></div></div></div></div></div>"
      ],
      "text/plain": [
       "LinearSVC(C=1.5, loss='hinge', random_state=3)"
      ]
     },
     "execution_count": 36,
     "metadata": {},
     "output_type": "execute_result"
    }
   ],
   "source": [
    "lsvc_search.best_estimator_"
   ]
  },
  {
   "cell_type": "code",
   "execution_count": 37,
   "id": "e83757fd",
   "metadata": {},
   "outputs": [
    {
     "data": {
      "text/plain": [
       "0.98874213836478"
      ]
     },
     "execution_count": 37,
     "metadata": {},
     "output_type": "execute_result"
    }
   ],
   "source": [
    "lsvc_search.best_score_"
   ]
  },
  {
   "cell_type": "markdown",
   "id": "5f12cab2",
   "metadata": {},
   "source": [
    "The above score is small improvement on the untuned model"
   ]
  },
  {
   "cell_type": "markdown",
   "id": "3817a036",
   "metadata": {},
   "source": [
    "### KNN Tuning"
   ]
  },
  {
   "cell_type": "code",
   "execution_count": 38,
   "id": "be66396a",
   "metadata": {},
   "outputs": [
    {
     "data": {
      "text/html": [
       "<style>#sk-container-id-7 {color: black;background-color: white;}#sk-container-id-7 pre{padding: 0;}#sk-container-id-7 div.sk-toggleable {background-color: white;}#sk-container-id-7 label.sk-toggleable__label {cursor: pointer;display: block;width: 100%;margin-bottom: 0;padding: 0.3em;box-sizing: border-box;text-align: center;}#sk-container-id-7 label.sk-toggleable__label-arrow:before {content: \"▸\";float: left;margin-right: 0.25em;color: #696969;}#sk-container-id-7 label.sk-toggleable__label-arrow:hover:before {color: black;}#sk-container-id-7 div.sk-estimator:hover label.sk-toggleable__label-arrow:before {color: black;}#sk-container-id-7 div.sk-toggleable__content {max-height: 0;max-width: 0;overflow: hidden;text-align: left;background-color: #f0f8ff;}#sk-container-id-7 div.sk-toggleable__content pre {margin: 0.2em;color: black;border-radius: 0.25em;background-color: #f0f8ff;}#sk-container-id-7 input.sk-toggleable__control:checked~div.sk-toggleable__content {max-height: 200px;max-width: 100%;overflow: auto;}#sk-container-id-7 input.sk-toggleable__control:checked~label.sk-toggleable__label-arrow:before {content: \"▾\";}#sk-container-id-7 div.sk-estimator input.sk-toggleable__control:checked~label.sk-toggleable__label {background-color: #d4ebff;}#sk-container-id-7 div.sk-label input.sk-toggleable__control:checked~label.sk-toggleable__label {background-color: #d4ebff;}#sk-container-id-7 input.sk-hidden--visually {border: 0;clip: rect(1px 1px 1px 1px);clip: rect(1px, 1px, 1px, 1px);height: 1px;margin: -1px;overflow: hidden;padding: 0;position: absolute;width: 1px;}#sk-container-id-7 div.sk-estimator {font-family: monospace;background-color: #f0f8ff;border: 1px dotted black;border-radius: 0.25em;box-sizing: border-box;margin-bottom: 0.5em;}#sk-container-id-7 div.sk-estimator:hover {background-color: #d4ebff;}#sk-container-id-7 div.sk-parallel-item::after {content: \"\";width: 100%;border-bottom: 1px solid gray;flex-grow: 1;}#sk-container-id-7 div.sk-label:hover label.sk-toggleable__label {background-color: #d4ebff;}#sk-container-id-7 div.sk-serial::before {content: \"\";position: absolute;border-left: 1px solid gray;box-sizing: border-box;top: 0;bottom: 0;left: 50%;z-index: 0;}#sk-container-id-7 div.sk-serial {display: flex;flex-direction: column;align-items: center;background-color: white;padding-right: 0.2em;padding-left: 0.2em;position: relative;}#sk-container-id-7 div.sk-item {position: relative;z-index: 1;}#sk-container-id-7 div.sk-parallel {display: flex;align-items: stretch;justify-content: center;background-color: white;position: relative;}#sk-container-id-7 div.sk-item::before, #sk-container-id-7 div.sk-parallel-item::before {content: \"\";position: absolute;border-left: 1px solid gray;box-sizing: border-box;top: 0;bottom: 0;left: 50%;z-index: -1;}#sk-container-id-7 div.sk-parallel-item {display: flex;flex-direction: column;z-index: 1;position: relative;background-color: white;}#sk-container-id-7 div.sk-parallel-item:first-child::after {align-self: flex-end;width: 50%;}#sk-container-id-7 div.sk-parallel-item:last-child::after {align-self: flex-start;width: 50%;}#sk-container-id-7 div.sk-parallel-item:only-child::after {width: 0;}#sk-container-id-7 div.sk-dashed-wrapped {border: 1px dashed gray;margin: 0 0.4em 0.5em 0.4em;box-sizing: border-box;padding-bottom: 0.4em;background-color: white;}#sk-container-id-7 div.sk-label label {font-family: monospace;font-weight: bold;display: inline-block;line-height: 1.2em;}#sk-container-id-7 div.sk-label-container {text-align: center;}#sk-container-id-7 div.sk-container {/* jupyter's `normalize.less` sets `[hidden] { display: none; }` but bootstrap.min.css set `[hidden] { display: none !important; }` so we also need the `!important` here to be able to override the default hidden behavior on the sphinx rendered scikit-learn.org. See: https://github.com/scikit-learn/scikit-learn/issues/21755 */display: inline-block !important;position: relative;}#sk-container-id-7 div.sk-text-repr-fallback {display: none;}</style><div id=\"sk-container-id-7\" class=\"sk-top-container\"><div class=\"sk-text-repr-fallback\"><pre>RandomizedSearchCV(cv=5, estimator=KNeighborsClassifier(), n_iter=20,\n",
       "                   param_distributions={&#x27;algorithm&#x27;: [&#x27;auto&#x27;, &#x27;ball_tree&#x27;,\n",
       "                                                      &#x27;kd_tree&#x27;, &#x27;brute&#x27;],\n",
       "                                        &#x27;n_neighbors&#x27;: [3, 5, 7, 9, 11],\n",
       "                                        &#x27;p&#x27;: [1, 2],\n",
       "                                        &#x27;weights&#x27;: [&#x27;uniform&#x27;, &#x27;distance&#x27;]},\n",
       "                   random_state=2)</pre><b>In a Jupyter environment, please rerun this cell to show the HTML representation or trust the notebook. <br />On GitHub, the HTML representation is unable to render, please try loading this page with nbviewer.org.</b></div><div class=\"sk-container\" hidden><div class=\"sk-item sk-dashed-wrapped\"><div class=\"sk-label-container\"><div class=\"sk-label sk-toggleable\"><input class=\"sk-toggleable__control sk-hidden--visually\" id=\"sk-estimator-id-13\" type=\"checkbox\" ><label for=\"sk-estimator-id-13\" class=\"sk-toggleable__label sk-toggleable__label-arrow\">RandomizedSearchCV</label><div class=\"sk-toggleable__content\"><pre>RandomizedSearchCV(cv=5, estimator=KNeighborsClassifier(), n_iter=20,\n",
       "                   param_distributions={&#x27;algorithm&#x27;: [&#x27;auto&#x27;, &#x27;ball_tree&#x27;,\n",
       "                                                      &#x27;kd_tree&#x27;, &#x27;brute&#x27;],\n",
       "                                        &#x27;n_neighbors&#x27;: [3, 5, 7, 9, 11],\n",
       "                                        &#x27;p&#x27;: [1, 2],\n",
       "                                        &#x27;weights&#x27;: [&#x27;uniform&#x27;, &#x27;distance&#x27;]},\n",
       "                   random_state=2)</pre></div></div></div><div class=\"sk-parallel\"><div class=\"sk-parallel-item\"><div class=\"sk-item\"><div class=\"sk-label-container\"><div class=\"sk-label sk-toggleable\"><input class=\"sk-toggleable__control sk-hidden--visually\" id=\"sk-estimator-id-14\" type=\"checkbox\" ><label for=\"sk-estimator-id-14\" class=\"sk-toggleable__label sk-toggleable__label-arrow\">estimator: KNeighborsClassifier</label><div class=\"sk-toggleable__content\"><pre>KNeighborsClassifier()</pre></div></div></div><div class=\"sk-serial\"><div class=\"sk-item\"><div class=\"sk-estimator sk-toggleable\"><input class=\"sk-toggleable__control sk-hidden--visually\" id=\"sk-estimator-id-15\" type=\"checkbox\" ><label for=\"sk-estimator-id-15\" class=\"sk-toggleable__label sk-toggleable__label-arrow\">KNeighborsClassifier</label><div class=\"sk-toggleable__content\"><pre>KNeighborsClassifier()</pre></div></div></div></div></div></div></div></div></div></div>"
      ],
      "text/plain": [
       "RandomizedSearchCV(cv=5, estimator=KNeighborsClassifier(), n_iter=20,\n",
       "                   param_distributions={'algorithm': ['auto', 'ball_tree',\n",
       "                                                      'kd_tree', 'brute'],\n",
       "                                        'n_neighbors': [3, 5, 7, 9, 11],\n",
       "                                        'p': [1, 2],\n",
       "                                        'weights': ['uniform', 'distance']},\n",
       "                   random_state=2)"
      ]
     },
     "execution_count": 38,
     "metadata": {},
     "output_type": "execute_result"
    }
   ],
   "source": [
    "param_grid_knn = {\n",
    "    'n_neighbors': [3, 5, 7, 9, 11],\n",
    "    'weights': ['uniform', 'distance'],\n",
    "    'algorithm': ['auto', 'ball_tree', 'kd_tree', 'brute'],\n",
    "    'p': [1, 2]  # for Manhattan and Euclidean distance\n",
    "}\n",
    "\n",
    "# Initializing the KNN model\n",
    "knn_model = KNeighborsClassifier()\n",
    "\n",
    "knn_search = RandomizedSearchCV(knn_model, param_distributions=param_grid_knn, n_iter=20, random_state=2, cv=5)\n",
    "knn_search.fit(X_train_final, y_train)"
   ]
  },
  {
   "cell_type": "code",
   "execution_count": 39,
   "id": "868ec2b5",
   "metadata": {},
   "outputs": [
    {
     "data": {
      "text/plain": [
       "{'weights': 'distance', 'p': 1, 'n_neighbors': 5, 'algorithm': 'ball_tree'}"
      ]
     },
     "execution_count": 39,
     "metadata": {},
     "output_type": "execute_result"
    }
   ],
   "source": [
    "knn_search.best_params_"
   ]
  },
  {
   "cell_type": "code",
   "execution_count": 40,
   "id": "78237f4d",
   "metadata": {},
   "outputs": [
    {
     "data": {
      "text/html": [
       "<style>#sk-container-id-8 {color: black;background-color: white;}#sk-container-id-8 pre{padding: 0;}#sk-container-id-8 div.sk-toggleable {background-color: white;}#sk-container-id-8 label.sk-toggleable__label {cursor: pointer;display: block;width: 100%;margin-bottom: 0;padding: 0.3em;box-sizing: border-box;text-align: center;}#sk-container-id-8 label.sk-toggleable__label-arrow:before {content: \"▸\";float: left;margin-right: 0.25em;color: #696969;}#sk-container-id-8 label.sk-toggleable__label-arrow:hover:before {color: black;}#sk-container-id-8 div.sk-estimator:hover label.sk-toggleable__label-arrow:before {color: black;}#sk-container-id-8 div.sk-toggleable__content {max-height: 0;max-width: 0;overflow: hidden;text-align: left;background-color: #f0f8ff;}#sk-container-id-8 div.sk-toggleable__content pre {margin: 0.2em;color: black;border-radius: 0.25em;background-color: #f0f8ff;}#sk-container-id-8 input.sk-toggleable__control:checked~div.sk-toggleable__content {max-height: 200px;max-width: 100%;overflow: auto;}#sk-container-id-8 input.sk-toggleable__control:checked~label.sk-toggleable__label-arrow:before {content: \"▾\";}#sk-container-id-8 div.sk-estimator input.sk-toggleable__control:checked~label.sk-toggleable__label {background-color: #d4ebff;}#sk-container-id-8 div.sk-label input.sk-toggleable__control:checked~label.sk-toggleable__label {background-color: #d4ebff;}#sk-container-id-8 input.sk-hidden--visually {border: 0;clip: rect(1px 1px 1px 1px);clip: rect(1px, 1px, 1px, 1px);height: 1px;margin: -1px;overflow: hidden;padding: 0;position: absolute;width: 1px;}#sk-container-id-8 div.sk-estimator {font-family: monospace;background-color: #f0f8ff;border: 1px dotted black;border-radius: 0.25em;box-sizing: border-box;margin-bottom: 0.5em;}#sk-container-id-8 div.sk-estimator:hover {background-color: #d4ebff;}#sk-container-id-8 div.sk-parallel-item::after {content: \"\";width: 100%;border-bottom: 1px solid gray;flex-grow: 1;}#sk-container-id-8 div.sk-label:hover label.sk-toggleable__label {background-color: #d4ebff;}#sk-container-id-8 div.sk-serial::before {content: \"\";position: absolute;border-left: 1px solid gray;box-sizing: border-box;top: 0;bottom: 0;left: 50%;z-index: 0;}#sk-container-id-8 div.sk-serial {display: flex;flex-direction: column;align-items: center;background-color: white;padding-right: 0.2em;padding-left: 0.2em;position: relative;}#sk-container-id-8 div.sk-item {position: relative;z-index: 1;}#sk-container-id-8 div.sk-parallel {display: flex;align-items: stretch;justify-content: center;background-color: white;position: relative;}#sk-container-id-8 div.sk-item::before, #sk-container-id-8 div.sk-parallel-item::before {content: \"\";position: absolute;border-left: 1px solid gray;box-sizing: border-box;top: 0;bottom: 0;left: 50%;z-index: -1;}#sk-container-id-8 div.sk-parallel-item {display: flex;flex-direction: column;z-index: 1;position: relative;background-color: white;}#sk-container-id-8 div.sk-parallel-item:first-child::after {align-self: flex-end;width: 50%;}#sk-container-id-8 div.sk-parallel-item:last-child::after {align-self: flex-start;width: 50%;}#sk-container-id-8 div.sk-parallel-item:only-child::after {width: 0;}#sk-container-id-8 div.sk-dashed-wrapped {border: 1px dashed gray;margin: 0 0.4em 0.5em 0.4em;box-sizing: border-box;padding-bottom: 0.4em;background-color: white;}#sk-container-id-8 div.sk-label label {font-family: monospace;font-weight: bold;display: inline-block;line-height: 1.2em;}#sk-container-id-8 div.sk-label-container {text-align: center;}#sk-container-id-8 div.sk-container {/* jupyter's `normalize.less` sets `[hidden] { display: none; }` but bootstrap.min.css set `[hidden] { display: none !important; }` so we also need the `!important` here to be able to override the default hidden behavior on the sphinx rendered scikit-learn.org. See: https://github.com/scikit-learn/scikit-learn/issues/21755 */display: inline-block !important;position: relative;}#sk-container-id-8 div.sk-text-repr-fallback {display: none;}</style><div id=\"sk-container-id-8\" class=\"sk-top-container\"><div class=\"sk-text-repr-fallback\"><pre>KNeighborsClassifier(algorithm=&#x27;ball_tree&#x27;, p=1, weights=&#x27;distance&#x27;)</pre><b>In a Jupyter environment, please rerun this cell to show the HTML representation or trust the notebook. <br />On GitHub, the HTML representation is unable to render, please try loading this page with nbviewer.org.</b></div><div class=\"sk-container\" hidden><div class=\"sk-item\"><div class=\"sk-estimator sk-toggleable\"><input class=\"sk-toggleable__control sk-hidden--visually\" id=\"sk-estimator-id-16\" type=\"checkbox\" checked><label for=\"sk-estimator-id-16\" class=\"sk-toggleable__label sk-toggleable__label-arrow\">KNeighborsClassifier</label><div class=\"sk-toggleable__content\"><pre>KNeighborsClassifier(algorithm=&#x27;ball_tree&#x27;, p=1, weights=&#x27;distance&#x27;)</pre></div></div></div></div></div>"
      ],
      "text/plain": [
       "KNeighborsClassifier(algorithm='ball_tree', p=1, weights='distance')"
      ]
     },
     "execution_count": 40,
     "metadata": {},
     "output_type": "execute_result"
    }
   ],
   "source": [
    "knn_search.best_estimator_"
   ]
  },
  {
   "cell_type": "code",
   "execution_count": 41,
   "id": "45bda31c",
   "metadata": {},
   "outputs": [
    {
     "data": {
      "text/plain": [
       "0.9925"
      ]
     },
     "execution_count": 41,
     "metadata": {},
     "output_type": "execute_result"
    }
   ],
   "source": [
    "knn_search.best_score_"
   ]
  },
  {
   "cell_type": "markdown",
   "id": "66382bfd",
   "metadata": {},
   "source": [
    "The above score is small improvement on the untuned model"
   ]
  },
  {
   "cell_type": "markdown",
   "id": "aa1b5093",
   "metadata": {},
   "source": [
    "### LDA Tuning"
   ]
  },
  {
   "cell_type": "code",
   "execution_count": 42,
   "id": "8dbc7da5",
   "metadata": {},
   "outputs": [
    {
     "data": {
      "text/html": [
       "<style>#sk-container-id-9 {color: black;background-color: white;}#sk-container-id-9 pre{padding: 0;}#sk-container-id-9 div.sk-toggleable {background-color: white;}#sk-container-id-9 label.sk-toggleable__label {cursor: pointer;display: block;width: 100%;margin-bottom: 0;padding: 0.3em;box-sizing: border-box;text-align: center;}#sk-container-id-9 label.sk-toggleable__label-arrow:before {content: \"▸\";float: left;margin-right: 0.25em;color: #696969;}#sk-container-id-9 label.sk-toggleable__label-arrow:hover:before {color: black;}#sk-container-id-9 div.sk-estimator:hover label.sk-toggleable__label-arrow:before {color: black;}#sk-container-id-9 div.sk-toggleable__content {max-height: 0;max-width: 0;overflow: hidden;text-align: left;background-color: #f0f8ff;}#sk-container-id-9 div.sk-toggleable__content pre {margin: 0.2em;color: black;border-radius: 0.25em;background-color: #f0f8ff;}#sk-container-id-9 input.sk-toggleable__control:checked~div.sk-toggleable__content {max-height: 200px;max-width: 100%;overflow: auto;}#sk-container-id-9 input.sk-toggleable__control:checked~label.sk-toggleable__label-arrow:before {content: \"▾\";}#sk-container-id-9 div.sk-estimator input.sk-toggleable__control:checked~label.sk-toggleable__label {background-color: #d4ebff;}#sk-container-id-9 div.sk-label input.sk-toggleable__control:checked~label.sk-toggleable__label {background-color: #d4ebff;}#sk-container-id-9 input.sk-hidden--visually {border: 0;clip: rect(1px 1px 1px 1px);clip: rect(1px, 1px, 1px, 1px);height: 1px;margin: -1px;overflow: hidden;padding: 0;position: absolute;width: 1px;}#sk-container-id-9 div.sk-estimator {font-family: monospace;background-color: #f0f8ff;border: 1px dotted black;border-radius: 0.25em;box-sizing: border-box;margin-bottom: 0.5em;}#sk-container-id-9 div.sk-estimator:hover {background-color: #d4ebff;}#sk-container-id-9 div.sk-parallel-item::after {content: \"\";width: 100%;border-bottom: 1px solid gray;flex-grow: 1;}#sk-container-id-9 div.sk-label:hover label.sk-toggleable__label {background-color: #d4ebff;}#sk-container-id-9 div.sk-serial::before {content: \"\";position: absolute;border-left: 1px solid gray;box-sizing: border-box;top: 0;bottom: 0;left: 50%;z-index: 0;}#sk-container-id-9 div.sk-serial {display: flex;flex-direction: column;align-items: center;background-color: white;padding-right: 0.2em;padding-left: 0.2em;position: relative;}#sk-container-id-9 div.sk-item {position: relative;z-index: 1;}#sk-container-id-9 div.sk-parallel {display: flex;align-items: stretch;justify-content: center;background-color: white;position: relative;}#sk-container-id-9 div.sk-item::before, #sk-container-id-9 div.sk-parallel-item::before {content: \"\";position: absolute;border-left: 1px solid gray;box-sizing: border-box;top: 0;bottom: 0;left: 50%;z-index: -1;}#sk-container-id-9 div.sk-parallel-item {display: flex;flex-direction: column;z-index: 1;position: relative;background-color: white;}#sk-container-id-9 div.sk-parallel-item:first-child::after {align-self: flex-end;width: 50%;}#sk-container-id-9 div.sk-parallel-item:last-child::after {align-self: flex-start;width: 50%;}#sk-container-id-9 div.sk-parallel-item:only-child::after {width: 0;}#sk-container-id-9 div.sk-dashed-wrapped {border: 1px dashed gray;margin: 0 0.4em 0.5em 0.4em;box-sizing: border-box;padding-bottom: 0.4em;background-color: white;}#sk-container-id-9 div.sk-label label {font-family: monospace;font-weight: bold;display: inline-block;line-height: 1.2em;}#sk-container-id-9 div.sk-label-container {text-align: center;}#sk-container-id-9 div.sk-container {/* jupyter's `normalize.less` sets `[hidden] { display: none; }` but bootstrap.min.css set `[hidden] { display: none !important; }` so we also need the `!important` here to be able to override the default hidden behavior on the sphinx rendered scikit-learn.org. See: https://github.com/scikit-learn/scikit-learn/issues/21755 */display: inline-block !important;position: relative;}#sk-container-id-9 div.sk-text-repr-fallback {display: none;}</style><div id=\"sk-container-id-9\" class=\"sk-top-container\"><div class=\"sk-text-repr-fallback\"><pre>RandomizedSearchCV(cv=5, estimator=LinearDiscriminantAnalysis(), n_iter=20,\n",
       "                   param_distributions={&#x27;shrinkage&#x27;: [&#x27;auto&#x27;, None],\n",
       "                                        &#x27;solver&#x27;: [&#x27;svd&#x27;, &#x27;lsqr&#x27;, &#x27;eigen&#x27;],\n",
       "                                        &#x27;tol&#x27;: [0.0001, 0.001, 0.01]},\n",
       "                   random_state=2)</pre><b>In a Jupyter environment, please rerun this cell to show the HTML representation or trust the notebook. <br />On GitHub, the HTML representation is unable to render, please try loading this page with nbviewer.org.</b></div><div class=\"sk-container\" hidden><div class=\"sk-item sk-dashed-wrapped\"><div class=\"sk-label-container\"><div class=\"sk-label sk-toggleable\"><input class=\"sk-toggleable__control sk-hidden--visually\" id=\"sk-estimator-id-17\" type=\"checkbox\" ><label for=\"sk-estimator-id-17\" class=\"sk-toggleable__label sk-toggleable__label-arrow\">RandomizedSearchCV</label><div class=\"sk-toggleable__content\"><pre>RandomizedSearchCV(cv=5, estimator=LinearDiscriminantAnalysis(), n_iter=20,\n",
       "                   param_distributions={&#x27;shrinkage&#x27;: [&#x27;auto&#x27;, None],\n",
       "                                        &#x27;solver&#x27;: [&#x27;svd&#x27;, &#x27;lsqr&#x27;, &#x27;eigen&#x27;],\n",
       "                                        &#x27;tol&#x27;: [0.0001, 0.001, 0.01]},\n",
       "                   random_state=2)</pre></div></div></div><div class=\"sk-parallel\"><div class=\"sk-parallel-item\"><div class=\"sk-item\"><div class=\"sk-label-container\"><div class=\"sk-label sk-toggleable\"><input class=\"sk-toggleable__control sk-hidden--visually\" id=\"sk-estimator-id-18\" type=\"checkbox\" ><label for=\"sk-estimator-id-18\" class=\"sk-toggleable__label sk-toggleable__label-arrow\">estimator: LinearDiscriminantAnalysis</label><div class=\"sk-toggleable__content\"><pre>LinearDiscriminantAnalysis()</pre></div></div></div><div class=\"sk-serial\"><div class=\"sk-item\"><div class=\"sk-estimator sk-toggleable\"><input class=\"sk-toggleable__control sk-hidden--visually\" id=\"sk-estimator-id-19\" type=\"checkbox\" ><label for=\"sk-estimator-id-19\" class=\"sk-toggleable__label sk-toggleable__label-arrow\">LinearDiscriminantAnalysis</label><div class=\"sk-toggleable__content\"><pre>LinearDiscriminantAnalysis()</pre></div></div></div></div></div></div></div></div></div></div>"
      ],
      "text/plain": [
       "RandomizedSearchCV(cv=5, estimator=LinearDiscriminantAnalysis(), n_iter=20,\n",
       "                   param_distributions={'shrinkage': ['auto', None],\n",
       "                                        'solver': ['svd', 'lsqr', 'eigen'],\n",
       "                                        'tol': [0.0001, 0.001, 0.01]},\n",
       "                   random_state=2)"
      ]
     },
     "execution_count": 42,
     "metadata": {},
     "output_type": "execute_result"
    }
   ],
   "source": [
    "param_grid_lda = {\n",
    "    'solver': ['svd', 'lsqr', 'eigen'],\n",
    "    'shrinkage': ['auto', None],\n",
    "    'tol': [1e-4, 1e-3, 1e-2]\n",
    "}\n",
    "\n",
    "# Initializing the LDA model\n",
    "lda_model = LinearDiscriminantAnalysis()\n",
    "\n",
    "lda_search = RandomizedSearchCV(lda_model, param_distributions=param_grid_lda, n_iter=20, random_state=2, cv=5)\n",
    "lda_search.fit(X_train_final, y_train)"
   ]
  },
  {
   "cell_type": "code",
   "execution_count": 43,
   "id": "03384bb5",
   "metadata": {},
   "outputs": [
    {
     "data": {
      "text/plain": [
       "{'tol': 0.0001, 'solver': 'lsqr', 'shrinkage': 'auto'}"
      ]
     },
     "execution_count": 43,
     "metadata": {},
     "output_type": "execute_result"
    }
   ],
   "source": [
    "lda_search.best_params_"
   ]
  },
  {
   "cell_type": "code",
   "execution_count": 44,
   "id": "86675abd",
   "metadata": {},
   "outputs": [
    {
     "data": {
      "text/html": [
       "<style>#sk-container-id-10 {color: black;background-color: white;}#sk-container-id-10 pre{padding: 0;}#sk-container-id-10 div.sk-toggleable {background-color: white;}#sk-container-id-10 label.sk-toggleable__label {cursor: pointer;display: block;width: 100%;margin-bottom: 0;padding: 0.3em;box-sizing: border-box;text-align: center;}#sk-container-id-10 label.sk-toggleable__label-arrow:before {content: \"▸\";float: left;margin-right: 0.25em;color: #696969;}#sk-container-id-10 label.sk-toggleable__label-arrow:hover:before {color: black;}#sk-container-id-10 div.sk-estimator:hover label.sk-toggleable__label-arrow:before {color: black;}#sk-container-id-10 div.sk-toggleable__content {max-height: 0;max-width: 0;overflow: hidden;text-align: left;background-color: #f0f8ff;}#sk-container-id-10 div.sk-toggleable__content pre {margin: 0.2em;color: black;border-radius: 0.25em;background-color: #f0f8ff;}#sk-container-id-10 input.sk-toggleable__control:checked~div.sk-toggleable__content {max-height: 200px;max-width: 100%;overflow: auto;}#sk-container-id-10 input.sk-toggleable__control:checked~label.sk-toggleable__label-arrow:before {content: \"▾\";}#sk-container-id-10 div.sk-estimator input.sk-toggleable__control:checked~label.sk-toggleable__label {background-color: #d4ebff;}#sk-container-id-10 div.sk-label input.sk-toggleable__control:checked~label.sk-toggleable__label {background-color: #d4ebff;}#sk-container-id-10 input.sk-hidden--visually {border: 0;clip: rect(1px 1px 1px 1px);clip: rect(1px, 1px, 1px, 1px);height: 1px;margin: -1px;overflow: hidden;padding: 0;position: absolute;width: 1px;}#sk-container-id-10 div.sk-estimator {font-family: monospace;background-color: #f0f8ff;border: 1px dotted black;border-radius: 0.25em;box-sizing: border-box;margin-bottom: 0.5em;}#sk-container-id-10 div.sk-estimator:hover {background-color: #d4ebff;}#sk-container-id-10 div.sk-parallel-item::after {content: \"\";width: 100%;border-bottom: 1px solid gray;flex-grow: 1;}#sk-container-id-10 div.sk-label:hover label.sk-toggleable__label {background-color: #d4ebff;}#sk-container-id-10 div.sk-serial::before {content: \"\";position: absolute;border-left: 1px solid gray;box-sizing: border-box;top: 0;bottom: 0;left: 50%;z-index: 0;}#sk-container-id-10 div.sk-serial {display: flex;flex-direction: column;align-items: center;background-color: white;padding-right: 0.2em;padding-left: 0.2em;position: relative;}#sk-container-id-10 div.sk-item {position: relative;z-index: 1;}#sk-container-id-10 div.sk-parallel {display: flex;align-items: stretch;justify-content: center;background-color: white;position: relative;}#sk-container-id-10 div.sk-item::before, #sk-container-id-10 div.sk-parallel-item::before {content: \"\";position: absolute;border-left: 1px solid gray;box-sizing: border-box;top: 0;bottom: 0;left: 50%;z-index: -1;}#sk-container-id-10 div.sk-parallel-item {display: flex;flex-direction: column;z-index: 1;position: relative;background-color: white;}#sk-container-id-10 div.sk-parallel-item:first-child::after {align-self: flex-end;width: 50%;}#sk-container-id-10 div.sk-parallel-item:last-child::after {align-self: flex-start;width: 50%;}#sk-container-id-10 div.sk-parallel-item:only-child::after {width: 0;}#sk-container-id-10 div.sk-dashed-wrapped {border: 1px dashed gray;margin: 0 0.4em 0.5em 0.4em;box-sizing: border-box;padding-bottom: 0.4em;background-color: white;}#sk-container-id-10 div.sk-label label {font-family: monospace;font-weight: bold;display: inline-block;line-height: 1.2em;}#sk-container-id-10 div.sk-label-container {text-align: center;}#sk-container-id-10 div.sk-container {/* jupyter's `normalize.less` sets `[hidden] { display: none; }` but bootstrap.min.css set `[hidden] { display: none !important; }` so we also need the `!important` here to be able to override the default hidden behavior on the sphinx rendered scikit-learn.org. See: https://github.com/scikit-learn/scikit-learn/issues/21755 */display: inline-block !important;position: relative;}#sk-container-id-10 div.sk-text-repr-fallback {display: none;}</style><div id=\"sk-container-id-10\" class=\"sk-top-container\"><div class=\"sk-text-repr-fallback\"><pre>LinearDiscriminantAnalysis(shrinkage=&#x27;auto&#x27;, solver=&#x27;lsqr&#x27;)</pre><b>In a Jupyter environment, please rerun this cell to show the HTML representation or trust the notebook. <br />On GitHub, the HTML representation is unable to render, please try loading this page with nbviewer.org.</b></div><div class=\"sk-container\" hidden><div class=\"sk-item\"><div class=\"sk-estimator sk-toggleable\"><input class=\"sk-toggleable__control sk-hidden--visually\" id=\"sk-estimator-id-20\" type=\"checkbox\" checked><label for=\"sk-estimator-id-20\" class=\"sk-toggleable__label sk-toggleable__label-arrow\">LinearDiscriminantAnalysis</label><div class=\"sk-toggleable__content\"><pre>LinearDiscriminantAnalysis(shrinkage=&#x27;auto&#x27;, solver=&#x27;lsqr&#x27;)</pre></div></div></div></div></div>"
      ],
      "text/plain": [
       "LinearDiscriminantAnalysis(shrinkage='auto', solver='lsqr')"
      ]
     },
     "execution_count": 44,
     "metadata": {},
     "output_type": "execute_result"
    }
   ],
   "source": [
    "lda_search.best_estimator_"
   ]
  },
  {
   "cell_type": "code",
   "execution_count": 45,
   "id": "86026d4e",
   "metadata": {},
   "outputs": [
    {
     "data": {
      "text/plain": [
       "0.954882075471698"
      ]
     },
     "execution_count": 45,
     "metadata": {},
     "output_type": "execute_result"
    }
   ],
   "source": [
    "lda_search.best_score_"
   ]
  },
  {
   "cell_type": "markdown",
   "id": "6bd8244d",
   "metadata": {},
   "source": [
    "The above score has not improved from the untuned model results "
   ]
  },
  {
   "cell_type": "markdown",
   "id": "b3ee4271",
   "metadata": {},
   "source": [
    "## 5 Models Tuning Summary"
   ]
  },
  {
   "cell_type": "code",
   "execution_count": 46,
   "id": "21eb5dcf",
   "metadata": {},
   "outputs": [
    {
     "name": "stdout",
     "output_type": "stream",
     "text": [
      "LR: 0.988734 (0.008752)\n",
      "NB: 0.823576 (0.045079)\n",
      "LSVC: 0.988734 (0.008752)\n",
      "KNN: 0.992484 (0.006137)\n",
      "LDA: 0.961234 (0.041617)\n"
     ]
    }
   ],
   "source": [
    "# Comparing 5 models with tuned parameters\n",
    "\n",
    "array = X_train_final.values\n",
    "X = array[ : , 0:15]\n",
    "Y = y_train\n",
    "\n",
    "# Preparing models with best parameters output\n",
    "models3 = []\n",
    "models3.append(('LR', lr_search.best_estimator_))\n",
    "models3.append(('NB', nb_search.best_estimator_))\n",
    "models3.append(('LSVC', lsvc_search.best_estimator_))\n",
    "models3.append(('KNN', knn_search.best_estimator_))\n",
    "models3.append(('LDA', lda_search.best_estimator_))\n",
    "\n",
    "# Evaluating each model after tuning\n",
    "results = []\n",
    "names = []\n",
    "scoring = 'accuracy'\n",
    "for name, model in models3:\n",
    "  kfold = KFold(n_splits=10, random_state=3,shuffle=True)\n",
    "  cv_results = cross_val_score(model, X, Y, cv=kfold, scoring=scoring)\n",
    "  results.append(cv_results)\n",
    "  names.append(name)\n",
    "  msg = \"%s: %f (%f)\" % (name, cv_results.mean(), cv_results.std())\n",
    "  print(msg)"
   ]
  },
  {
   "cell_type": "code",
   "execution_count": null,
   "id": "b4292dfb",
   "metadata": {},
   "outputs": [],
   "source": []
  }
 ],
 "metadata": {
  "kernelspec": {
   "display_name": "Python 3 (ipykernel)",
   "language": "python",
   "name": "python3"
  },
  "language_info": {
   "codemirror_mode": {
    "name": "ipython",
    "version": 3
   },
   "file_extension": ".py",
   "mimetype": "text/x-python",
   "name": "python",
   "nbconvert_exporter": "python",
   "pygments_lexer": "ipython3",
   "version": "3.11.4"
  }
 },
 "nbformat": 4,
 "nbformat_minor": 5
}
